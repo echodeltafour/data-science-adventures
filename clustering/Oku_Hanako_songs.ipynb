{
  "nbformat": 4,
  "nbformat_minor": 0,
  "metadata": {
    "colab": {
      "name": "Oku Hanako songs.ipynb",
      "provenance": [],
      "collapsed_sections": []
    },
    "kernelspec": {
      "name": "python3",
      "display_name": "Python 3"
    }
  },
  "cells": [
    {
      "cell_type": "code",
      "metadata": {
        "id": "Qm-ko1VjVkaO",
        "colab_type": "code",
        "colab": {
          "base_uri": "https://localhost:8080/",
          "height": 129
        },
        "outputId": "f24818df-6ef5-4d13-cb79-49b06b9d2f33"
      },
      "source": [
        "\"\"\"Set up connection to Google Drive.\"\"\"\n",
        "\n",
        "# import Drive helper and mount drive\n",
        "from google.colab import drive\n",
        "drive.mount('/content/drive')"
      ],
      "execution_count": 2,
      "outputs": [
        {
          "output_type": "stream",
          "text": [
            "Go to this URL in a browser: https://accounts.google.com/o/oauth2/auth?client_id=947318989803-6bn6qk8qdgf4n4g3pfee6491hc0brc4i.apps.googleusercontent.com&redirect_uri=urn%3Aietf%3Awg%3Aoauth%3A2.0%3Aoob&scope=email%20https%3A%2F%2Fwww.googleapis.com%2Fauth%2Fdocs.test%20https%3A%2F%2Fwww.googleapis.com%2Fauth%2Fdrive%20https%3A%2F%2Fwww.googleapis.com%2Fauth%2Fdrive.photos.readonly%20https%3A%2F%2Fwww.googleapis.com%2Fauth%2Fpeopleapi.readonly&response_type=code\n",
            "\n",
            "Enter your authorization code:\n",
            "··········\n",
            "Mounted at /content/drive\n"
          ],
          "name": "stdout"
        }
      ]
    },
    {
      "cell_type": "code",
      "metadata": {
        "id": "3pf1o0rEVrzR",
        "colab_type": "code",
        "colab": {}
      },
      "source": [
        "# Suppress output of this cell\n",
        "%%capture\n",
        "\n",
        "\"\"\"Install and import dependencies.\"\"\"\n",
        "\n",
        "# Install and import spotipy to access Spotify API\n",
        "!pip install spotipy\n",
        "import spotipy \n",
        "from spotipy.oauth2 import SpotifyClientCredentials \n",
        "\n",
        "# Import configparser for loading configuration file to call Spotify API\n",
        "import configparser\n",
        "\n",
        "# Import pandas for dataframes\n",
        "import pandas as pd \n",
        "\n",
        "# Import matplotlib and seaborn for plotting\n",
        "import matplotlib.pyplot as plt\n",
        "import seaborn as sns\n",
        "sns.set()\n",
        "%matplotlib inline \n",
        "\n",
        "# Import numpy to help with plots\n",
        "import numpy as np\n",
        "\n",
        "# Import scikit-learn for scaling and k-means clustering\n",
        "from sklearn.preprocessing import MinMaxScaler\n",
        "from sklearn.cluster import KMeans"
      ],
      "execution_count": 0,
      "outputs": []
    },
    {
      "cell_type": "code",
      "metadata": {
        "id": "5tE3UbmIXCGz",
        "colab_type": "code",
        "colab": {}
      },
      "source": [
        "\"\"\"Define path variables.\"\"\"\n",
        "\n",
        "# Main path in Google Drive\n",
        "homePath = '/content/drive/My Drive/Colab Notebooks'\n",
        "\n",
        "# Path to the Spotify configuration file\n",
        "configFilePath = f'{homePath}/bin/spotify_client_config.txt'\n",
        "\n",
        "# Path to save data\n",
        "dataPath = f'{homePath}/Data/Spotify audio features'"
      ],
      "execution_count": 0,
      "outputs": []
    },
    {
      "cell_type": "code",
      "metadata": {
        "id": "lazK6J3yYKJn",
        "colab_type": "code",
        "colab": {
          "base_uri": "https://localhost:8080/",
          "height": 54
        },
        "outputId": "bae7a881-949c-40df-8cd1-41763302f395"
      },
      "source": [
        "def init_spotify_client(configFilePath: str):\n",
        "  \"\"\"\n",
        "  Initialise Spotify client to use Spotify API.\n",
        "  \n",
        "  :param str configFilePath: Path to the Spotify config file\n",
        "  :returns: Spotify client\n",
        "  \"\"\"\n",
        "  # Load the Spotify client configuration file\n",
        "  config = configparser.ConfigParser()\n",
        "  config.read(configFilePath)\n",
        "  \n",
        "  print(f'Loaded config file with settings for: {config.sections()}')\n",
        "\n",
        "  # Use configuration to set up Spotify client authorisation\n",
        "  client_credentials_manager = \\\n",
        "  SpotifyClientCredentials(client_id=config['developer.spotify.com']['cid'], \\\n",
        "                           client_secret=config['developer.spotify.com']['secret'])\n",
        "\n",
        "  # Initialise the Spotify client\n",
        "  sp = spotipy.Spotify(client_credentials_manager=client_credentials_manager)\n",
        "  \n",
        "  print('Authorised Spotify client has been initialised')\n",
        "  \n",
        "  return sp\n",
        "\n",
        "\n",
        "# Initialise the Spotify client\n",
        "sp = init_spotify_client(configFilePath)"
      ],
      "execution_count": 8,
      "outputs": [
        {
          "output_type": "stream",
          "text": [
            "Loaded config file with settings for: ['developer.spotify.com']\n",
            "Authorised Spotify client has been initialised\n"
          ],
          "name": "stdout"
        }
      ]
    },
    {
      "cell_type": "code",
      "metadata": {
        "id": "pg_DmR33f4-y",
        "colab_type": "code",
        "colab": {
          "base_uri": "https://localhost:8080/",
          "height": 55
        },
        "outputId": "e1825e07-6e4f-4826-f3fc-a51baa46b534"
      },
      "source": [
        "def get_artist_albums(sp, artist_url: str):\n",
        "  \"\"\"\n",
        "  Get ths IDs and names of all albums for an artist on Spotify, and returns them in a list.\n",
        "  \n",
        "  :param sp: Spotify client\n",
        "  :param str artist_url: The Spotify URL of artist\n",
        "  :returns: List containing the IDs and names of albums for the artist\n",
        "  \"\"\"\n",
        "  \n",
        "  # Set limit to 50, which is the maximum\n",
        "  request_limit = 50\n",
        "  \n",
        "  # Get all album information from Spotify\n",
        "  artist_album_info = sp.artist_albums(artist_url, album_type='album', limit=request_limit)\n",
        "  artist_single_info = sp.artist_albums(artist_url, album_type='single', limit=request_limit)\n",
        "  artist_compilation_info = sp.artist_albums(artist_url, album_type='compilation', limit=request_limit)\n",
        "  \n",
        "  \"\"\"\n",
        "  albums = artist_album_info['items']\n",
        "  while artist_album_info['next']:\n",
        "    artist_album_info = spotify.next(artist_album_info)\n",
        "    albums.extend(artist_album_info['items'])\n",
        "  \"\"\"\n",
        "  \n",
        "  return artist_album_info\n",
        "  \n",
        "# Oku Hanako's Spotify URL\n",
        "oku_hanako_url = 'https://open.spotify.com/artist/2tOwqfTtAMswbLySSaTRYR'\n",
        "\n",
        "\n",
        "test = get_artist_albums(sp, oku_hanako_url)\n",
        "print(test)"
      ],
      "execution_count": 17,
      "outputs": [
        {
          "output_type": "stream",
          "text": [
            "{'href': 'https://api.spotify.com/v1/artists/2tOwqfTtAMswbLySSaTRYR/albums?offset=0&limit=50&include_groups=album', 'items': [{'album_group': 'album', 'album_type': 'album', 'artists': [{'external_urls': {'spotify': 'https://open.spotify.com/artist/2tOwqfTtAMswbLySSaTRYR'}, 'href': 'https://api.spotify.com/v1/artists/2tOwqfTtAMswbLySSaTRYR', 'id': '2tOwqfTtAMswbLySSaTRYR', 'name': 'Hanako Oku', 'type': 'artist', 'uri': 'spotify:artist:2tOwqfTtAMswbLySSaTRYR'}], 'available_markets': ['AD', 'AE', 'AR', 'AT', 'AU', 'BE', 'BG', 'BH', 'BO', 'BR', 'CA', 'CH', 'CL', 'CO', 'CR', 'CY', 'CZ', 'DE', 'DK', 'DO', 'DZ', 'EC', 'EE', 'EG', 'ES', 'FI', 'FR', 'GB', 'GR', 'GT', 'HK', 'HN', 'HU', 'ID', 'IE', 'IL', 'IN', 'IS', 'IT', 'JO', 'KW', 'LB', 'LI', 'LT', 'LU', 'LV', 'MA', 'MC', 'MT', 'MX', 'MY', 'NI', 'NL', 'NO', 'NZ', 'OM', 'PA', 'PE', 'PH', 'PL', 'PS', 'PT', 'PY', 'QA', 'RO', 'SA', 'SE', 'SG', 'SK', 'SV', 'TH', 'TN', 'TR', 'TW', 'US', 'UY', 'VN', 'ZA'], 'external_urls': {'spotify': 'https://open.spotify.com/album/4abOiMhmU82RzPTTJdwoAg'}, 'href': 'https://api.spotify.com/v1/albums/4abOiMhmU82RzPTTJdwoAg', 'id': '4abOiMhmU82RzPTTJdwoAg', 'images': [{'height': 640, 'url': 'https://i.scdn.co/image/ab67616d0000b273362e8799e4e541e156645e19', 'width': 640}, {'height': 300, 'url': 'https://i.scdn.co/image/ab67616d00001e02362e8799e4e541e156645e19', 'width': 300}, {'height': 64, 'url': 'https://i.scdn.co/image/ab67616d00004851362e8799e4e541e156645e19', 'width': 64}], 'name': 'Kasumisou', 'release_date': '2019-03-20', 'release_date_precision': 'day', 'total_tracks': 16, 'type': 'album', 'uri': 'spotify:album:4abOiMhmU82RzPTTJdwoAg'}, {'album_group': 'album', 'album_type': 'album', 'artists': [{'external_urls': {'spotify': 'https://open.spotify.com/artist/2tOwqfTtAMswbLySSaTRYR'}, 'href': 'https://api.spotify.com/v1/artists/2tOwqfTtAMswbLySSaTRYR', 'id': '2tOwqfTtAMswbLySSaTRYR', 'name': 'Hanako Oku', 'type': 'artist', 'uri': 'spotify:artist:2tOwqfTtAMswbLySSaTRYR'}], 'available_markets': ['JP'], 'external_urls': {'spotify': 'https://open.spotify.com/album/21MhioN5ORrLgeHItYLrbO'}, 'href': 'https://api.spotify.com/v1/albums/21MhioN5ORrLgeHItYLrbO', 'id': '21MhioN5ORrLgeHItYLrbO', 'images': [{'height': 640, 'url': 'https://i.scdn.co/image/ab67616d0000b27349a3d5057a948f7015f9b79f', 'width': 640}, {'height': 300, 'url': 'https://i.scdn.co/image/ab67616d00001e0249a3d5057a948f7015f9b79f', 'width': 300}, {'height': 64, 'url': 'https://i.scdn.co/image/ab67616d0000485149a3d5057a948f7015f9b79f', 'width': 64}], 'name': 'KASUMISOU', 'release_date': '2019-03-20', 'release_date_precision': 'day', 'total_tracks': 16, 'type': 'album', 'uri': 'spotify:album:21MhioN5ORrLgeHItYLrbO'}, {'album_group': 'album', 'album_type': 'album', 'artists': [{'external_urls': {'spotify': 'https://open.spotify.com/artist/2tOwqfTtAMswbLySSaTRYR'}, 'href': 'https://api.spotify.com/v1/artists/2tOwqfTtAMswbLySSaTRYR', 'id': '2tOwqfTtAMswbLySSaTRYR', 'name': 'Hanako Oku', 'type': 'artist', 'uri': 'spotify:artist:2tOwqfTtAMswbLySSaTRYR'}], 'available_markets': ['AD', 'AE', 'AR', 'AT', 'AU', 'BE', 'BG', 'BH', 'BO', 'BR', 'CA', 'CH', 'CL', 'CO', 'CR', 'CY', 'CZ', 'DE', 'DK', 'DO', 'DZ', 'EC', 'EE', 'EG', 'ES', 'FI', 'FR', 'GB', 'GR', 'GT', 'HK', 'HN', 'HU', 'ID', 'IE', 'IL', 'IN', 'IS', 'IT', 'JO', 'KW', 'LB', 'LI', 'LT', 'LU', 'LV', 'MA', 'MC', 'MT', 'MX', 'MY', 'NI', 'NL', 'NO', 'NZ', 'OM', 'PA', 'PE', 'PH', 'PL', 'PS', 'PT', 'PY', 'QA', 'RO', 'SA', 'SE', 'SG', 'SK', 'SV', 'TH', 'TN', 'TR', 'TW', 'US', 'UY', 'VN', 'ZA'], 'external_urls': {'spotify': 'https://open.spotify.com/album/5IRmaEqZkIqyz1pIDiaxMA'}, 'href': 'https://api.spotify.com/v1/albums/5IRmaEqZkIqyz1pIDiaxMA', 'id': '5IRmaEqZkIqyz1pIDiaxMA', 'images': [{'height': 640, 'url': 'https://i.scdn.co/image/ab67616d0000b273b58adeb2503157749433cf35', 'width': 640}, {'height': 300, 'url': 'https://i.scdn.co/image/ab67616d00001e02b58adeb2503157749433cf35', 'width': 300}, {'height': 64, 'url': 'https://i.scdn.co/image/ab67616d00004851b58adeb2503157749433cf35', 'width': 64}], 'name': 'Koitegami', 'release_date': '2017-11-01', 'release_date_precision': 'day', 'total_tracks': 11, 'type': 'album', 'uri': 'spotify:album:5IRmaEqZkIqyz1pIDiaxMA'}, {'album_group': 'album', 'album_type': 'album', 'artists': [{'external_urls': {'spotify': 'https://open.spotify.com/artist/2tOwqfTtAMswbLySSaTRYR'}, 'href': 'https://api.spotify.com/v1/artists/2tOwqfTtAMswbLySSaTRYR', 'id': '2tOwqfTtAMswbLySSaTRYR', 'name': 'Hanako Oku', 'type': 'artist', 'uri': 'spotify:artist:2tOwqfTtAMswbLySSaTRYR'}], 'available_markets': ['AD', 'AE', 'AR', 'AT', 'AU', 'BE', 'BG', 'BH', 'BO', 'BR', 'CA', 'CH', 'CL', 'CO', 'CR', 'CY', 'CZ', 'DE', 'DK', 'DO', 'DZ', 'EC', 'EE', 'EG', 'ES', 'FI', 'FR', 'GB', 'GR', 'GT', 'HK', 'HN', 'HU', 'ID', 'IE', 'IL', 'IN', 'IS', 'IT', 'JO', 'KW', 'LB', 'LI', 'LT', 'LU', 'LV', 'MA', 'MC', 'MT', 'MX', 'MY', 'NI', 'NL', 'NO', 'NZ', 'OM', 'PA', 'PE', 'PH', 'PL', 'PS', 'PT', 'PY', 'QA', 'RO', 'SA', 'SE', 'SG', 'SK', 'SV', 'TH', 'TN', 'TR', 'TW', 'US', 'UY', 'VN', 'ZA'], 'external_urls': {'spotify': 'https://open.spotify.com/album/7fSCacBULfzbmJhVLK4Ubr'}, 'href': 'https://api.spotify.com/v1/albums/7fSCacBULfzbmJhVLK4Ubr', 'id': '7fSCacBULfzbmJhVLK4Ubr', 'images': [{'height': 640, 'url': 'https://i.scdn.co/image/b90fc8155fbef86805f907e0dab336face67addf', 'width': 640}, {'height': 300, 'url': 'https://i.scdn.co/image/53ec1934504abbf1d75c370aab39e95e850f6326', 'width': 300}, {'height': 64, 'url': 'https://i.scdn.co/image/f70a59dc572aeb277ff719e77698267d05efeb5b', 'width': 64}], 'name': 'Time Note', 'release_date': '2017-11-01', 'release_date_precision': 'day', 'total_tracks': 11, 'type': 'album', 'uri': 'spotify:album:7fSCacBULfzbmJhVLK4Ubr'}, {'album_group': 'album', 'album_type': 'album', 'artists': [{'external_urls': {'spotify': 'https://open.spotify.com/artist/2tOwqfTtAMswbLySSaTRYR'}, 'href': 'https://api.spotify.com/v1/artists/2tOwqfTtAMswbLySSaTRYR', 'id': '2tOwqfTtAMswbLySSaTRYR', 'name': 'Hanako Oku', 'type': 'artist', 'uri': 'spotify:artist:2tOwqfTtAMswbLySSaTRYR'}], 'available_markets': ['AD', 'AE', 'AR', 'AT', 'AU', 'BE', 'BG', 'BH', 'BO', 'BR', 'CA', 'CH', 'CL', 'CO', 'CR', 'CY', 'CZ', 'DE', 'DK', 'DO', 'DZ', 'EC', 'EE', 'EG', 'ES', 'FI', 'FR', 'GB', 'GR', 'GT', 'HK', 'HN', 'HU', 'ID', 'IE', 'IL', 'IN', 'IS', 'IT', 'JO', 'KW', 'LB', 'LI', 'LT', 'LU', 'LV', 'MA', 'MC', 'MT', 'MX', 'MY', 'NI', 'NL', 'NO', 'NZ', 'OM', 'PA', 'PE', 'PH', 'PL', 'PS', 'PT', 'PY', 'QA', 'RO', 'SA', 'SE', 'SG', 'SK', 'SV', 'TH', 'TN', 'TR', 'TW', 'US', 'UY', 'VN', 'ZA'], 'external_urls': {'spotify': 'https://open.spotify.com/album/4WYgIEnTK22iOgNBbhjjoz'}, 'href': 'https://api.spotify.com/v1/albums/4WYgIEnTK22iOgNBbhjjoz', 'id': '4WYgIEnTK22iOgNBbhjjoz', 'images': [{'height': 640, 'url': 'https://i.scdn.co/image/ab67616d0000b273b5a83b08ea0c09e190bd777c', 'width': 640}, {'height': 300, 'url': 'https://i.scdn.co/image/ab67616d00001e02b5a83b08ea0c09e190bd777c', 'width': 300}, {'height': 64, 'url': 'https://i.scdn.co/image/ab67616d00004851b5a83b08ea0c09e190bd777c', 'width': 64}], 'name': 'Yasashii Hana no Saku Basho', 'release_date': '2017-11-01', 'release_date_precision': 'day', 'total_tracks': 12, 'type': 'album', 'uri': 'spotify:album:4WYgIEnTK22iOgNBbhjjoz'}, {'album_group': 'album', 'album_type': 'album', 'artists': [{'external_urls': {'spotify': 'https://open.spotify.com/artist/2tOwqfTtAMswbLySSaTRYR'}, 'href': 'https://api.spotify.com/v1/artists/2tOwqfTtAMswbLySSaTRYR', 'id': '2tOwqfTtAMswbLySSaTRYR', 'name': 'Hanako Oku', 'type': 'artist', 'uri': 'spotify:artist:2tOwqfTtAMswbLySSaTRYR'}], 'available_markets': ['JP'], 'external_urls': {'spotify': 'https://open.spotify.com/album/4FKSyutBQKKsuZlTG1mo37'}, 'href': 'https://api.spotify.com/v1/albums/4FKSyutBQKKsuZlTG1mo37', 'id': '4FKSyutBQKKsuZlTG1mo37', 'images': [{'height': 640, 'url': 'https://i.scdn.co/image/ab67616d0000b27337b0d55705f4bc997adeab7f', 'width': 640}, {'height': 300, 'url': 'https://i.scdn.co/image/ab67616d00001e0237b0d55705f4bc997adeab7f', 'width': 300}, {'height': 64, 'url': 'https://i.scdn.co/image/ab67616d0000485137b0d55705f4bc997adeab7f', 'width': 64}], 'name': '遥か遠くに見えていた今日', 'release_date': '2017-05-17', 'release_date_precision': 'day', 'total_tracks': 14, 'type': 'album', 'uri': 'spotify:album:4FKSyutBQKKsuZlTG1mo37'}, {'album_group': 'album', 'album_type': 'album', 'artists': [{'external_urls': {'spotify': 'https://open.spotify.com/artist/2tOwqfTtAMswbLySSaTRYR'}, 'href': 'https://api.spotify.com/v1/artists/2tOwqfTtAMswbLySSaTRYR', 'id': '2tOwqfTtAMswbLySSaTRYR', 'name': 'Hanako Oku', 'type': 'artist', 'uri': 'spotify:artist:2tOwqfTtAMswbLySSaTRYR'}], 'available_markets': ['AD', 'AE', 'AR', 'AT', 'AU', 'BE', 'BG', 'BH', 'BO', 'BR', 'CA', 'CH', 'CL', 'CO', 'CR', 'CY', 'CZ', 'DE', 'DK', 'DO', 'DZ', 'EC', 'EE', 'EG', 'ES', 'FI', 'FR', 'GB', 'GR', 'GT', 'HK', 'HN', 'HU', 'ID', 'IE', 'IL', 'IN', 'IS', 'IT', 'JO', 'KW', 'LB', 'LI', 'LT', 'LU', 'LV', 'MA', 'MC', 'MT', 'MX', 'MY', 'NI', 'NL', 'NO', 'NZ', 'OM', 'PA', 'PE', 'PH', 'PL', 'PS', 'PT', 'PY', 'QA', 'RO', 'SA', 'SE', 'SG', 'SK', 'SV', 'TH', 'TN', 'TR', 'TW', 'US', 'UY', 'VN', 'ZA'], 'external_urls': {'spotify': 'https://open.spotify.com/album/0yRWdJ2vChvTtyuyc9XxhG'}, 'href': 'https://api.spotify.com/v1/albums/0yRWdJ2vChvTtyuyc9XxhG', 'id': '0yRWdJ2vChvTtyuyc9XxhG', 'images': [{'height': 632, 'url': 'https://i.scdn.co/image/711a16ee14c8b6fd72c12f8826710e093d7bfc81', 'width': 640}, {'height': 296, 'url': 'https://i.scdn.co/image/fa4f21725585090c5ca61e96cbac6be492dd1bd2', 'width': 300}, {'height': 63, 'url': 'https://i.scdn.co/image/d850833d8d30a40a1d51e508380abc6e8d5f9fdf', 'width': 64}], 'name': 'Haruka Tooku ni Miete Ita Kyou', 'release_date': '2017', 'release_date_precision': 'year', 'total_tracks': 14, 'type': 'album', 'uri': 'spotify:album:0yRWdJ2vChvTtyuyc9XxhG'}, {'album_group': 'album', 'album_type': 'album', 'artists': [{'external_urls': {'spotify': 'https://open.spotify.com/artist/2tOwqfTtAMswbLySSaTRYR'}, 'href': 'https://api.spotify.com/v1/artists/2tOwqfTtAMswbLySSaTRYR', 'id': '2tOwqfTtAMswbLySSaTRYR', 'name': 'Hanako Oku', 'type': 'artist', 'uri': 'spotify:artist:2tOwqfTtAMswbLySSaTRYR'}], 'available_markets': ['JP'], 'external_urls': {'spotify': 'https://open.spotify.com/album/073Ac84c29Z6ebUpEQJ4lf'}, 'href': 'https://api.spotify.com/v1/albums/073Ac84c29Z6ebUpEQJ4lf', 'id': '073Ac84c29Z6ebUpEQJ4lf', 'images': [{'height': 640, 'url': 'https://i.scdn.co/image/ab67616d0000b2734de9c9f3dc89ee2c84576a43', 'width': 640}, {'height': 300, 'url': 'https://i.scdn.co/image/ab67616d00001e024de9c9f3dc89ee2c84576a43', 'width': 300}, {'height': 64, 'url': 'https://i.scdn.co/image/ab67616d000048514de9c9f3dc89ee2c84576a43', 'width': 64}], 'name': 'プリズム~通常盤~', 'release_date': '2015-10-28', 'release_date_precision': 'day', 'total_tracks': 13, 'type': 'album', 'uri': 'spotify:album:073Ac84c29Z6ebUpEQJ4lf'}, {'album_group': 'album', 'album_type': 'album', 'artists': [{'external_urls': {'spotify': 'https://open.spotify.com/artist/2tOwqfTtAMswbLySSaTRYR'}, 'href': 'https://api.spotify.com/v1/artists/2tOwqfTtAMswbLySSaTRYR', 'id': '2tOwqfTtAMswbLySSaTRYR', 'name': 'Hanako Oku', 'type': 'artist', 'uri': 'spotify:artist:2tOwqfTtAMswbLySSaTRYR'}], 'available_markets': ['JP'], 'external_urls': {'spotify': 'https://open.spotify.com/album/4lLRbNaZ4bGlt3JwH383RW'}, 'href': 'https://api.spotify.com/v1/albums/4lLRbNaZ4bGlt3JwH383RW', 'id': '4lLRbNaZ4bGlt3JwH383RW', 'images': [{'height': 640, 'url': 'https://i.scdn.co/image/aee6828f30ed7077a07e186fabe52aa273512591', 'width': 640}, {'height': 300, 'url': 'https://i.scdn.co/image/0ae9b2ff6403ac9f50dc9ddfa3debaa5e283825b', 'width': 300}, {'height': 64, 'url': 'https://i.scdn.co/image/6e1c067d684b4fd4cf15fec07359061bc384a277', 'width': 64}], 'name': '君がくれた夏', 'release_date': '2015-03-18', 'release_date_precision': 'day', 'total_tracks': 6, 'type': 'album', 'uri': 'spotify:album:4lLRbNaZ4bGlt3JwH383RW'}, {'album_group': 'album', 'album_type': 'album', 'artists': [{'external_urls': {'spotify': 'https://open.spotify.com/artist/2tOwqfTtAMswbLySSaTRYR'}, 'href': 'https://api.spotify.com/v1/artists/2tOwqfTtAMswbLySSaTRYR', 'id': '2tOwqfTtAMswbLySSaTRYR', 'name': 'Hanako Oku', 'type': 'artist', 'uri': 'spotify:artist:2tOwqfTtAMswbLySSaTRYR'}], 'available_markets': ['AD', 'AE', 'AR', 'AT', 'AU', 'BE', 'BG', 'BH', 'BO', 'BR', 'CA', 'CH', 'CL', 'CO', 'CR', 'CY', 'CZ', 'DE', 'DK', 'DO', 'DZ', 'EC', 'EE', 'EG', 'ES', 'FI', 'FR', 'GB', 'GR', 'GT', 'HK', 'HN', 'HU', 'ID', 'IE', 'IL', 'IN', 'IS', 'IT', 'JO', 'KW', 'LB', 'LI', 'LT', 'LU', 'LV', 'MA', 'MC', 'MT', 'MX', 'MY', 'NI', 'NL', 'NO', 'NZ', 'OM', 'PA', 'PE', 'PH', 'PL', 'PS', 'PT', 'PY', 'QA', 'RO', 'SA', 'SE', 'SG', 'SK', 'SV', 'TH', 'TN', 'TR', 'TW', 'US', 'UY', 'VN', 'ZA'], 'external_urls': {'spotify': 'https://open.spotify.com/album/3cxGKmVaLXygejJmo081kJ'}, 'href': 'https://api.spotify.com/v1/albums/3cxGKmVaLXygejJmo081kJ', 'id': '3cxGKmVaLXygejJmo081kJ', 'images': [{'height': 640, 'url': 'https://i.scdn.co/image/ab67616d0000b273ea0183b3a0221a23e1c7fce8', 'width': 640}, {'height': 300, 'url': 'https://i.scdn.co/image/ab67616d00001e02ea0183b3a0221a23e1c7fce8', 'width': 300}, {'height': 64, 'url': 'https://i.scdn.co/image/ab67616d00004851ea0183b3a0221a23e1c7fce8', 'width': 64}], 'name': 'Kimi ga Kureta Natsu', 'release_date': '2015', 'release_date_precision': 'year', 'total_tracks': 6, 'type': 'album', 'uri': 'spotify:album:3cxGKmVaLXygejJmo081kJ'}, {'album_group': 'album', 'album_type': 'album', 'artists': [{'external_urls': {'spotify': 'https://open.spotify.com/artist/2tOwqfTtAMswbLySSaTRYR'}, 'href': 'https://api.spotify.com/v1/artists/2tOwqfTtAMswbLySSaTRYR', 'id': '2tOwqfTtAMswbLySSaTRYR', 'name': 'Hanako Oku', 'type': 'artist', 'uri': 'spotify:artist:2tOwqfTtAMswbLySSaTRYR'}], 'available_markets': ['AD', 'AE', 'AR', 'AT', 'AU', 'BE', 'BG', 'BH', 'BO', 'BR', 'CA', 'CH', 'CL', 'CO', 'CR', 'CY', 'CZ', 'DE', 'DK', 'DO', 'DZ', 'EC', 'EE', 'EG', 'ES', 'FI', 'FR', 'GB', 'GR', 'GT', 'HK', 'HN', 'HU', 'ID', 'IE', 'IL', 'IN', 'IS', 'IT', 'JO', 'KW', 'LB', 'LI', 'LT', 'LU', 'LV', 'MA', 'MC', 'MT', 'MX', 'MY', 'NI', 'NL', 'NO', 'NZ', 'OM', 'PA', 'PE', 'PH', 'PL', 'PS', 'PT', 'PY', 'QA', 'RO', 'SA', 'SE', 'SG', 'SK', 'SV', 'TH', 'TN', 'TR', 'TW', 'US', 'UY', 'VN', 'ZA'], 'external_urls': {'spotify': 'https://open.spotify.com/album/44HcURmaDxNoKyffxO3Unf'}, 'href': 'https://api.spotify.com/v1/albums/44HcURmaDxNoKyffxO3Unf', 'id': '44HcURmaDxNoKyffxO3Unf', 'images': [{'height': 640, 'url': 'https://i.scdn.co/image/ab67616d0000b273bb02fff975cb579e247a5f9e', 'width': 640}, {'height': 300, 'url': 'https://i.scdn.co/image/ab67616d00001e02bb02fff975cb579e247a5f9e', 'width': 300}, {'height': 64, 'url': 'https://i.scdn.co/image/ab67616d00004851bb02fff975cb579e247a5f9e', 'width': 64}], 'name': 'Prism', 'release_date': '2015', 'release_date_precision': 'year', 'total_tracks': 13, 'type': 'album', 'uri': 'spotify:album:44HcURmaDxNoKyffxO3Unf'}, {'album_group': 'album', 'album_type': 'album', 'artists': [{'external_urls': {'spotify': 'https://open.spotify.com/artist/2tOwqfTtAMswbLySSaTRYR'}, 'href': 'https://api.spotify.com/v1/artists/2tOwqfTtAMswbLySSaTRYR', 'id': '2tOwqfTtAMswbLySSaTRYR', 'name': 'Hanako Oku', 'type': 'artist', 'uri': 'spotify:artist:2tOwqfTtAMswbLySSaTRYR'}], 'available_markets': ['JP'], 'external_urls': {'spotify': 'https://open.spotify.com/album/06Y4aFobuuvscslJY64Pfk'}, 'href': 'https://api.spotify.com/v1/albums/06Y4aFobuuvscslJY64Pfk', 'id': '06Y4aFobuuvscslJY64Pfk', 'images': [{'height': 640, 'url': 'https://i.scdn.co/image/ab67616d0000b273e3b5ec7d9aa5433627e94145', 'width': 640}, {'height': 300, 'url': 'https://i.scdn.co/image/ab67616d00001e02e3b5ec7d9aa5433627e94145', 'width': 300}, {'height': 64, 'url': 'https://i.scdn.co/image/ab67616d00004851e3b5ec7d9aa5433627e94145', 'width': 64}], 'name': '君と僕の道(通常盤)', 'release_date': '2014-03-19', 'release_date_precision': 'day', 'total_tracks': 13, 'type': 'album', 'uri': 'spotify:album:06Y4aFobuuvscslJY64Pfk'}, {'album_group': 'album', 'album_type': 'album', 'artists': [{'external_urls': {'spotify': 'https://open.spotify.com/artist/2tOwqfTtAMswbLySSaTRYR'}, 'href': 'https://api.spotify.com/v1/artists/2tOwqfTtAMswbLySSaTRYR', 'id': '2tOwqfTtAMswbLySSaTRYR', 'name': 'Hanako Oku', 'type': 'artist', 'uri': 'spotify:artist:2tOwqfTtAMswbLySSaTRYR'}], 'available_markets': ['AD', 'AE', 'AR', 'AT', 'AU', 'BE', 'BG', 'BH', 'BO', 'BR', 'CA', 'CH', 'CL', 'CO', 'CR', 'CY', 'CZ', 'DE', 'DK', 'DO', 'DZ', 'EC', 'EE', 'EG', 'ES', 'FI', 'FR', 'GB', 'GR', 'GT', 'HK', 'HN', 'HU', 'ID', 'IE', 'IL', 'IN', 'IS', 'IT', 'JO', 'KW', 'LB', 'LI', 'LT', 'LU', 'LV', 'MA', 'MC', 'MT', 'MX', 'MY', 'NI', 'NL', 'NO', 'NZ', 'OM', 'PA', 'PE', 'PH', 'PL', 'PS', 'PT', 'PY', 'QA', 'RO', 'SA', 'SE', 'SG', 'SK', 'SV', 'TH', 'TN', 'TR', 'TW', 'US', 'UY', 'VN', 'ZA'], 'external_urls': {'spotify': 'https://open.spotify.com/album/43Csf7vHu3674Z9f5JQ5ts'}, 'href': 'https://api.spotify.com/v1/albums/43Csf7vHu3674Z9f5JQ5ts', 'id': '43Csf7vHu3674Z9f5JQ5ts', 'images': [{'height': 640, 'url': 'https://i.scdn.co/image/ab67616d0000b273316c7033daccfa6d7550e787', 'width': 640}, {'height': 300, 'url': 'https://i.scdn.co/image/ab67616d00001e02316c7033daccfa6d7550e787', 'width': 300}, {'height': 64, 'url': 'https://i.scdn.co/image/ab67616d00004851316c7033daccfa6d7550e787', 'width': 64}], 'name': 'Kimi to Boku no Michi', 'release_date': '2014', 'release_date_precision': 'year', 'total_tracks': 13, 'type': 'album', 'uri': 'spotify:album:43Csf7vHu3674Z9f5JQ5ts'}, {'album_group': 'album', 'album_type': 'album', 'artists': [{'external_urls': {'spotify': 'https://open.spotify.com/artist/2tOwqfTtAMswbLySSaTRYR'}, 'href': 'https://api.spotify.com/v1/artists/2tOwqfTtAMswbLySSaTRYR', 'id': '2tOwqfTtAMswbLySSaTRYR', 'name': 'Hanako Oku', 'type': 'artist', 'uri': 'spotify:artist:2tOwqfTtAMswbLySSaTRYR'}], 'available_markets': ['JP'], 'external_urls': {'spotify': 'https://open.spotify.com/album/1D5fs2k6us8DpwYSK1sSiR'}, 'href': 'https://api.spotify.com/v1/albums/1D5fs2k6us8DpwYSK1sSiR', 'id': '1D5fs2k6us8DpwYSK1sSiR', 'images': [{'height': 640, 'url': 'https://i.scdn.co/image/dfb29d318aca2dbae2b8e55932cb841440b3f4a9', 'width': 640}, {'height': 300, 'url': 'https://i.scdn.co/image/ac29726b635c0d7a64b188245a128e9804c8b898', 'width': 300}, {'height': 64, 'url': 'https://i.scdn.co/image/a5f5ec69d4ad5ef76e5ca4204f88e9138d55920f', 'width': 64}], 'name': '奥華子BEST ~My Letters~', 'release_date': '2012-10-17', 'release_date_precision': 'day', 'total_tracks': 30, 'type': 'album', 'uri': 'spotify:album:1D5fs2k6us8DpwYSK1sSiR'}, {'album_group': 'album', 'album_type': 'album', 'artists': [{'external_urls': {'spotify': 'https://open.spotify.com/artist/2tOwqfTtAMswbLySSaTRYR'}, 'href': 'https://api.spotify.com/v1/artists/2tOwqfTtAMswbLySSaTRYR', 'id': '2tOwqfTtAMswbLySSaTRYR', 'name': 'Hanako Oku', 'type': 'artist', 'uri': 'spotify:artist:2tOwqfTtAMswbLySSaTRYR'}], 'available_markets': ['JP'], 'external_urls': {'spotify': 'https://open.spotify.com/album/62oov2Xwl3vwPXB6Oao5iF'}, 'href': 'https://api.spotify.com/v1/albums/62oov2Xwl3vwPXB6Oao5iF', 'id': '62oov2Xwl3vwPXB6Oao5iF', 'images': [{'height': 640, 'url': 'https://i.scdn.co/image/ab67616d0000b273a17e4d77b32461375589bc15', 'width': 640}, {'height': 300, 'url': 'https://i.scdn.co/image/ab67616d00001e02a17e4d77b32461375589bc15', 'width': 300}, {'height': 64, 'url': 'https://i.scdn.co/image/ab67616d00004851a17e4d77b32461375589bc15', 'width': 64}], 'name': 'good-bye', 'release_date': '2012-02-22', 'release_date_precision': 'day', 'total_tracks': 14, 'type': 'album', 'uri': 'spotify:album:62oov2Xwl3vwPXB6Oao5iF'}, {'album_group': 'album', 'album_type': 'album', 'artists': [{'external_urls': {'spotify': 'https://open.spotify.com/artist/2tOwqfTtAMswbLySSaTRYR'}, 'href': 'https://api.spotify.com/v1/artists/2tOwqfTtAMswbLySSaTRYR', 'id': '2tOwqfTtAMswbLySSaTRYR', 'name': 'Hanako Oku', 'type': 'artist', 'uri': 'spotify:artist:2tOwqfTtAMswbLySSaTRYR'}], 'available_markets': ['AD', 'AE', 'AR', 'AT', 'AU', 'BE', 'BG', 'BH', 'BO', 'BR', 'CA', 'CH', 'CL', 'CO', 'CR', 'CY', 'CZ', 'DE', 'DK', 'DO', 'DZ', 'EC', 'EE', 'EG', 'ES', 'FI', 'FR', 'GB', 'GR', 'GT', 'HK', 'HN', 'HU', 'ID', 'IE', 'IL', 'IN', 'IS', 'IT', 'JO', 'KW', 'LB', 'LI', 'LT', 'LU', 'LV', 'MA', 'MC', 'MT', 'MX', 'MY', 'NI', 'NL', 'NO', 'NZ', 'OM', 'PA', 'PE', 'PH', 'PL', 'PS', 'PT', 'PY', 'QA', 'RO', 'SA', 'SE', 'SG', 'SK', 'SV', 'TH', 'TN', 'TR', 'TW', 'US', 'UY', 'VN', 'ZA'], 'external_urls': {'spotify': 'https://open.spotify.com/album/2kLzqd8xCkU3gY4x76wWbk'}, 'href': 'https://api.spotify.com/v1/albums/2kLzqd8xCkU3gY4x76wWbk', 'id': '2kLzqd8xCkU3gY4x76wWbk', 'images': [{'height': 640, 'url': 'https://i.scdn.co/image/a811bdd24352eaf34292cf9d06d38508be84cd4d', 'width': 640}, {'height': 300, 'url': 'https://i.scdn.co/image/5d127ed9e45cb5d279b07938d80e2f29eabd6001', 'width': 300}, {'height': 64, 'url': 'https://i.scdn.co/image/e95993dff0eb637ae067a6783ee31f9870e73fc6', 'width': 64}], 'name': 'Good-Bye', 'release_date': '2012', 'release_date_precision': 'year', 'total_tracks': 14, 'type': 'album', 'uri': 'spotify:album:2kLzqd8xCkU3gY4x76wWbk'}, {'album_group': 'album', 'album_type': 'album', 'artists': [{'external_urls': {'spotify': 'https://open.spotify.com/artist/2tOwqfTtAMswbLySSaTRYR'}, 'href': 'https://api.spotify.com/v1/artists/2tOwqfTtAMswbLySSaTRYR', 'id': '2tOwqfTtAMswbLySSaTRYR', 'name': 'Hanako Oku', 'type': 'artist', 'uri': 'spotify:artist:2tOwqfTtAMswbLySSaTRYR'}], 'available_markets': ['AD', 'AE', 'AR', 'AT', 'AU', 'BE', 'BG', 'BH', 'BO', 'BR', 'CA', 'CH', 'CL', 'CO', 'CR', 'CY', 'CZ', 'DE', 'DK', 'DO', 'DZ', 'EC', 'EE', 'EG', 'ES', 'FI', 'FR', 'GB', 'GR', 'GT', 'HK', 'HN', 'HU', 'ID', 'IE', 'IL', 'IN', 'IS', 'IT', 'JO', 'KW', 'LB', 'LI', 'LT', 'LU', 'LV', 'MA', 'MC', 'MT', 'MX', 'MY', 'NI', 'NL', 'NO', 'NZ', 'OM', 'PA', 'PE', 'PH', 'PL', 'PS', 'PT', 'PY', 'QA', 'RO', 'SA', 'SE', 'SG', 'SK', 'SV', 'TH', 'TN', 'TR', 'TW', 'US', 'UY', 'VN', 'ZA'], 'external_urls': {'spotify': 'https://open.spotify.com/album/10S0x53VUJYn6Dcw7sY1fq'}, 'href': 'https://api.spotify.com/v1/albums/10S0x53VUJYn6Dcw7sY1fq', 'id': '10S0x53VUJYn6Dcw7sY1fq', 'images': [{'height': 640, 'url': 'https://i.scdn.co/image/ab67616d0000b273116ebff9f4c87643fb7b683d', 'width': 640}, {'height': 300, 'url': 'https://i.scdn.co/image/ab67616d00001e02116ebff9f4c87643fb7b683d', 'width': 300}, {'height': 64, 'url': 'https://i.scdn.co/image/ab67616d00004851116ebff9f4c87643fb7b683d', 'width': 64}], 'name': 'Hanako Oku Best ~ My Letters ~', 'release_date': '2012', 'release_date_precision': 'year', 'total_tracks': 30, 'type': 'album', 'uri': 'spotify:album:10S0x53VUJYn6Dcw7sY1fq'}, {'album_group': 'album', 'album_type': 'album', 'artists': [{'external_urls': {'spotify': 'https://open.spotify.com/artist/2tOwqfTtAMswbLySSaTRYR'}, 'href': 'https://api.spotify.com/v1/artists/2tOwqfTtAMswbLySSaTRYR', 'id': '2tOwqfTtAMswbLySSaTRYR', 'name': 'Hanako Oku', 'type': 'artist', 'uri': 'spotify:artist:2tOwqfTtAMswbLySSaTRYR'}], 'available_markets': ['JP'], 'external_urls': {'spotify': 'https://open.spotify.com/album/0twr3eFdWLBot3OJ9I2XaN'}, 'href': 'https://api.spotify.com/v1/albums/0twr3eFdWLBot3OJ9I2XaN', 'id': '0twr3eFdWLBot3OJ9I2XaN', 'images': [{'height': 640, 'url': 'https://i.scdn.co/image/d0ad0542feaefa55994002b698e3525633d4ae3b', 'width': 640}, {'height': 300, 'url': 'https://i.scdn.co/image/a3c2a4933876f1a47f8e7c7ed21031f190b26ea9', 'width': 300}, {'height': 64, 'url': 'https://i.scdn.co/image/2d8792e187e31f6fb799951c7eef38cb9ec3627d', 'width': 64}], 'name': '君の笑顔 -smile selection-', 'release_date': '2011-06-22', 'release_date_precision': 'day', 'total_tracks': 10, 'type': 'album', 'uri': 'spotify:album:0twr3eFdWLBot3OJ9I2XaN'}, {'album_group': 'album', 'album_type': 'album', 'artists': [{'external_urls': {'spotify': 'https://open.spotify.com/artist/2tOwqfTtAMswbLySSaTRYR'}, 'href': 'https://api.spotify.com/v1/artists/2tOwqfTtAMswbLySSaTRYR', 'id': '2tOwqfTtAMswbLySSaTRYR', 'name': 'Hanako Oku', 'type': 'artist', 'uri': 'spotify:artist:2tOwqfTtAMswbLySSaTRYR'}], 'available_markets': ['AD', 'AE', 'AR', 'AT', 'AU', 'BE', 'BG', 'BH', 'BO', 'BR', 'CA', 'CH', 'CL', 'CO', 'CR', 'CY', 'CZ', 'DE', 'DK', 'DO', 'DZ', 'EC', 'EE', 'EG', 'ES', 'FI', 'FR', 'GB', 'GR', 'GT', 'HK', 'HN', 'HU', 'ID', 'IE', 'IL', 'IN', 'IS', 'IT', 'JO', 'KW', 'LB', 'LI', 'LT', 'LU', 'LV', 'MA', 'MC', 'MT', 'MX', 'MY', 'NI', 'NL', 'NO', 'NZ', 'OM', 'PA', 'PE', 'PH', 'PL', 'PS', 'PT', 'PY', 'QA', 'RO', 'SA', 'SE', 'SG', 'SK', 'SV', 'TH', 'TN', 'TR', 'TW', 'US', 'UY', 'VN', 'ZA'], 'external_urls': {'spotify': 'https://open.spotify.com/album/550lyrw2jRnPAOHYd8zrfE'}, 'href': 'https://api.spotify.com/v1/albums/550lyrw2jRnPAOHYd8zrfE', 'id': '550lyrw2jRnPAOHYd8zrfE', 'images': [{'height': 635, 'url': 'https://i.scdn.co/image/196656316d8ba7e7dd27059932bcedbbf1217c50', 'width': 640}, {'height': 298, 'url': 'https://i.scdn.co/image/812d2e5228b3a448e1b708023b0a53363acd850a', 'width': 300}, {'height': 63, 'url': 'https://i.scdn.co/image/d729e43a5fca55eec0181f513d23ab17af3810dc', 'width': 63}], 'name': 'Kimi no Egao - Smile Selection -', 'release_date': '2011', 'release_date_precision': 'year', 'total_tracks': 10, 'type': 'album', 'uri': 'spotify:album:550lyrw2jRnPAOHYd8zrfE'}, {'album_group': 'album', 'album_type': 'album', 'artists': [{'external_urls': {'spotify': 'https://open.spotify.com/artist/2tOwqfTtAMswbLySSaTRYR'}, 'href': 'https://api.spotify.com/v1/artists/2tOwqfTtAMswbLySSaTRYR', 'id': '2tOwqfTtAMswbLySSaTRYR', 'name': 'Hanako Oku', 'type': 'artist', 'uri': 'spotify:artist:2tOwqfTtAMswbLySSaTRYR'}], 'available_markets': ['JP'], 'external_urls': {'spotify': 'https://open.spotify.com/album/7hrOSzGume0XMTWww8864z'}, 'href': 'https://api.spotify.com/v1/albums/7hrOSzGume0XMTWww8864z', 'id': '7hrOSzGume0XMTWww8864z', 'images': [{'height': 640, 'url': 'https://i.scdn.co/image/ab67616d0000b273ced04bb6afe99e175c6e8a2b', 'width': 640}, {'height': 300, 'url': 'https://i.scdn.co/image/ab67616d00001e02ced04bb6afe99e175c6e8a2b', 'width': 300}, {'height': 64, 'url': 'https://i.scdn.co/image/ab67616d00004851ced04bb6afe99e175c6e8a2b', 'width': 64}], 'name': 'うたかた', 'release_date': '2010-08-18', 'release_date_precision': 'day', 'total_tracks': 14, 'type': 'album', 'uri': 'spotify:album:7hrOSzGume0XMTWww8864z'}, {'album_group': 'album', 'album_type': 'album', 'artists': [{'external_urls': {'spotify': 'https://open.spotify.com/artist/2tOwqfTtAMswbLySSaTRYR'}, 'href': 'https://api.spotify.com/v1/artists/2tOwqfTtAMswbLySSaTRYR', 'id': '2tOwqfTtAMswbLySSaTRYR', 'name': 'Hanako Oku', 'type': 'artist', 'uri': 'spotify:artist:2tOwqfTtAMswbLySSaTRYR'}], 'available_markets': ['JP'], 'external_urls': {'spotify': 'https://open.spotify.com/album/602moUpWVghEMBqMtggybF'}, 'href': 'https://api.spotify.com/v1/albums/602moUpWVghEMBqMtggybF', 'id': '602moUpWVghEMBqMtggybF', 'images': [{'height': 640, 'url': 'https://i.scdn.co/image/2790f19b3afa8b7cda8735e823992e53caa7f4bd', 'width': 640}, {'height': 300, 'url': 'https://i.scdn.co/image/0197f5ca17dcebe3723bc65d50cea360916ea165', 'width': 300}, {'height': 64, 'url': 'https://i.scdn.co/image/79ed7f2331211a24771bb59a148bb2258c668ca0', 'width': 64}], 'name': '初恋', 'release_date': '2010-03-17', 'release_date_precision': 'day', 'total_tracks': 6, 'type': 'album', 'uri': 'spotify:album:602moUpWVghEMBqMtggybF'}, {'album_group': 'album', 'album_type': 'album', 'artists': [{'external_urls': {'spotify': 'https://open.spotify.com/artist/2tOwqfTtAMswbLySSaTRYR'}, 'href': 'https://api.spotify.com/v1/artists/2tOwqfTtAMswbLySSaTRYR', 'id': '2tOwqfTtAMswbLySSaTRYR', 'name': 'Hanako Oku', 'type': 'artist', 'uri': 'spotify:artist:2tOwqfTtAMswbLySSaTRYR'}], 'available_markets': ['AD', 'AE', 'AR', 'AT', 'AU', 'BE', 'BG', 'BH', 'BO', 'BR', 'CA', 'CH', 'CL', 'CO', 'CR', 'CY', 'CZ', 'DE', 'DK', 'DO', 'DZ', 'EC', 'EE', 'EG', 'ES', 'FI', 'FR', 'GB', 'GR', 'GT', 'HK', 'HN', 'HU', 'ID', 'IE', 'IL', 'IN', 'IS', 'IT', 'JO', 'KW', 'LB', 'LI', 'LT', 'LU', 'LV', 'MA', 'MC', 'MT', 'MX', 'MY', 'NI', 'NL', 'NO', 'NZ', 'OM', 'PA', 'PE', 'PH', 'PL', 'PS', 'PT', 'PY', 'QA', 'RO', 'SA', 'SE', 'SG', 'SK', 'SV', 'TH', 'TN', 'TR', 'TW', 'US', 'UY', 'VN', 'ZA'], 'external_urls': {'spotify': 'https://open.spotify.com/album/007gg37O285TeQGjAkq7OI'}, 'href': 'https://api.spotify.com/v1/albums/007gg37O285TeQGjAkq7OI', 'id': '007gg37O285TeQGjAkq7OI', 'images': [{'height': 634, 'url': 'https://i.scdn.co/image/94d9193d1c020457c0d0e3ae144830b27f9b9054', 'width': 640}, {'height': 297, 'url': 'https://i.scdn.co/image/824741bbd5515ded0512dc963ce3c044eb2f65be', 'width': 300}, {'height': 63, 'url': 'https://i.scdn.co/image/8ee7b3c06c6077a2243925a8f0ca24b241a06800', 'width': 64}], 'name': 'Utakata', 'release_date': '2010', 'release_date_precision': 'year', 'total_tracks': 14, 'type': 'album', 'uri': 'spotify:album:007gg37O285TeQGjAkq7OI'}, {'album_group': 'album', 'album_type': 'album', 'artists': [{'external_urls': {'spotify': 'https://open.spotify.com/artist/2tOwqfTtAMswbLySSaTRYR'}, 'href': 'https://api.spotify.com/v1/artists/2tOwqfTtAMswbLySSaTRYR', 'id': '2tOwqfTtAMswbLySSaTRYR', 'name': 'Hanako Oku', 'type': 'artist', 'uri': 'spotify:artist:2tOwqfTtAMswbLySSaTRYR'}], 'available_markets': ['JP'], 'external_urls': {'spotify': 'https://open.spotify.com/album/20OqbpYZaOog8z09P4OfzA'}, 'href': 'https://api.spotify.com/v1/albums/20OqbpYZaOog8z09P4OfzA', 'id': '20OqbpYZaOog8z09P4OfzA', 'images': [{'height': 640, 'url': 'https://i.scdn.co/image/ab67616d0000b273c2e903c7621464824bf2f0d6', 'width': 640}, {'height': 300, 'url': 'https://i.scdn.co/image/ab67616d00001e02c2e903c7621464824bf2f0d6', 'width': 300}, {'height': 64, 'url': 'https://i.scdn.co/image/ab67616d00004851c2e903c7621464824bf2f0d6', 'width': 64}], 'name': 'BIRTHDAY', 'release_date': '2009-07-15', 'release_date_precision': 'day', 'total_tracks': 14, 'type': 'album', 'uri': 'spotify:album:20OqbpYZaOog8z09P4OfzA'}, {'album_group': 'album', 'album_type': 'album', 'artists': [{'external_urls': {'spotify': 'https://open.spotify.com/artist/2tOwqfTtAMswbLySSaTRYR'}, 'href': 'https://api.spotify.com/v1/artists/2tOwqfTtAMswbLySSaTRYR', 'id': '2tOwqfTtAMswbLySSaTRYR', 'name': 'Hanako Oku', 'type': 'artist', 'uri': 'spotify:artist:2tOwqfTtAMswbLySSaTRYR'}], 'available_markets': ['AD', 'AE', 'AR', 'AT', 'AU', 'BE', 'BG', 'BH', 'BO', 'BR', 'CA', 'CH', 'CL', 'CO', 'CR', 'CY', 'CZ', 'DE', 'DK', 'DO', 'DZ', 'EC', 'EE', 'EG', 'ES', 'FI', 'FR', 'GB', 'GR', 'GT', 'HK', 'HN', 'HU', 'ID', 'IE', 'IL', 'IN', 'IS', 'IT', 'JO', 'KW', 'LB', 'LI', 'LT', 'LU', 'LV', 'MA', 'MC', 'MT', 'MX', 'MY', 'NI', 'NL', 'NO', 'NZ', 'OM', 'PA', 'PE', 'PH', 'PL', 'PS', 'PT', 'PY', 'QA', 'RO', 'SA', 'SE', 'SG', 'SK', 'SV', 'TH', 'TN', 'TR', 'TW', 'US', 'UY', 'VN', 'ZA'], 'external_urls': {'spotify': 'https://open.spotify.com/album/4MqRcUQ7AGoPIUSufJY3ES'}, 'href': 'https://api.spotify.com/v1/albums/4MqRcUQ7AGoPIUSufJY3ES', 'id': '4MqRcUQ7AGoPIUSufJY3ES', 'images': [{'height': 640, 'url': 'https://i.scdn.co/image/ab67616d0000b2738a91803658788bd1a2ae2f06', 'width': 640}, {'height': 300, 'url': 'https://i.scdn.co/image/ab67616d00001e028a91803658788bd1a2ae2f06', 'width': 300}, {'height': 64, 'url': 'https://i.scdn.co/image/ab67616d000048518a91803658788bd1a2ae2f06', 'width': 64}], 'name': 'Birthday', 'release_date': '2009', 'release_date_precision': 'year', 'total_tracks': 14, 'type': 'album', 'uri': 'spotify:album:4MqRcUQ7AGoPIUSufJY3ES'}, {'album_group': 'album', 'album_type': 'album', 'artists': [{'external_urls': {'spotify': 'https://open.spotify.com/artist/2tOwqfTtAMswbLySSaTRYR'}, 'href': 'https://api.spotify.com/v1/artists/2tOwqfTtAMswbLySSaTRYR', 'id': '2tOwqfTtAMswbLySSaTRYR', 'name': 'Hanako Oku', 'type': 'artist', 'uri': 'spotify:artist:2tOwqfTtAMswbLySSaTRYR'}], 'available_markets': ['JP'], 'external_urls': {'spotify': 'https://open.spotify.com/album/36MweThSIoqb4HC9390aN6'}, 'href': 'https://api.spotify.com/v1/albums/36MweThSIoqb4HC9390aN6', 'id': '36MweThSIoqb4HC9390aN6', 'images': [{'height': 640, 'url': 'https://i.scdn.co/image/ab67616d0000b27314809de60b192ac2d7448cbc', 'width': 640}, {'height': 300, 'url': 'https://i.scdn.co/image/ab67616d00001e0214809de60b192ac2d7448cbc', 'width': 300}, {'height': 64, 'url': 'https://i.scdn.co/image/ab67616d0000485114809de60b192ac2d7448cbc', 'width': 64}], 'name': '恋手紙', 'release_date': '2008-03-05', 'release_date_precision': 'day', 'total_tracks': 11, 'type': 'album', 'uri': 'spotify:album:36MweThSIoqb4HC9390aN6'}, {'album_group': 'album', 'album_type': 'album', 'artists': [{'external_urls': {'spotify': 'https://open.spotify.com/artist/2tOwqfTtAMswbLySSaTRYR'}, 'href': 'https://api.spotify.com/v1/artists/2tOwqfTtAMswbLySSaTRYR', 'id': '2tOwqfTtAMswbLySSaTRYR', 'name': 'Hanako Oku', 'type': 'artist', 'uri': 'spotify:artist:2tOwqfTtAMswbLySSaTRYR'}], 'available_markets': ['JP'], 'external_urls': {'spotify': 'https://open.spotify.com/album/4rH7HudckC8o6haxdCDk9m'}, 'href': 'https://api.spotify.com/v1/albums/4rH7HudckC8o6haxdCDk9m', 'id': '4rH7HudckC8o6haxdCDk9m', 'images': [{'height': 640, 'url': 'https://i.scdn.co/image/0e204aed17683e29d9cd5a549c7dbfaeb710b8a0', 'width': 640}, {'height': 300, 'url': 'https://i.scdn.co/image/1281aebb2b559588ebaf3b81c93e8180f8bacee9', 'width': 300}, {'height': 64, 'url': 'https://i.scdn.co/image/d0aed7630cd75821b13406d92c8a49fc70f67112', 'width': 64}], 'name': 'TIME NOTE', 'release_date': '2007-09-19', 'release_date_precision': 'day', 'total_tracks': 11, 'type': 'album', 'uri': 'spotify:album:4rH7HudckC8o6haxdCDk9m'}, {'album_group': 'album', 'album_type': 'album', 'artists': [{'external_urls': {'spotify': 'https://open.spotify.com/artist/2tOwqfTtAMswbLySSaTRYR'}, 'href': 'https://api.spotify.com/v1/artists/2tOwqfTtAMswbLySSaTRYR', 'id': '2tOwqfTtAMswbLySSaTRYR', 'name': 'Hanako Oku', 'type': 'artist', 'uri': 'spotify:artist:2tOwqfTtAMswbLySSaTRYR'}], 'available_markets': ['JP'], 'external_urls': {'spotify': 'https://open.spotify.com/album/4gQwkIAghfMZ9eGGTljz4W'}, 'href': 'https://api.spotify.com/v1/albums/4gQwkIAghfMZ9eGGTljz4W', 'id': '4gQwkIAghfMZ9eGGTljz4W', 'images': [{'height': 640, 'url': 'https://i.scdn.co/image/ab67616d0000b273b750d1fd8766a0a421cbfce2', 'width': 640}, {'height': 300, 'url': 'https://i.scdn.co/image/ab67616d00001e02b750d1fd8766a0a421cbfce2', 'width': 300}, {'height': 64, 'url': 'https://i.scdn.co/image/ab67616d00004851b750d1fd8766a0a421cbfce2', 'width': 64}], 'name': 'やさしい花の咲く場所', 'release_date': '2007-09-19', 'release_date_precision': 'day', 'total_tracks': 12, 'type': 'album', 'uri': 'spotify:album:4gQwkIAghfMZ9eGGTljz4W'}, {'album_group': 'album', 'album_type': 'album', 'artists': [{'external_urls': {'spotify': 'https://open.spotify.com/artist/2tOwqfTtAMswbLySSaTRYR'}, 'href': 'https://api.spotify.com/v1/artists/2tOwqfTtAMswbLySSaTRYR', 'id': '2tOwqfTtAMswbLySSaTRYR', 'name': 'Hanako Oku', 'type': 'artist', 'uri': 'spotify:artist:2tOwqfTtAMswbLySSaTRYR'}], 'available_markets': ['AD', 'AE', 'AR', 'AT', 'AU', 'BE', 'BG', 'BH', 'BO', 'BR', 'CA', 'CH', 'CL', 'CO', 'CR', 'CY', 'CZ', 'DE', 'DK', 'DO', 'DZ', 'EC', 'EE', 'EG', 'ES', 'FI', 'FR', 'GB', 'GR', 'GT', 'HK', 'HN', 'HU', 'ID', 'IE', 'IL', 'IN', 'IS', 'IT', 'JO', 'JP', 'KW', 'LB', 'LI', 'LT', 'LU', 'LV', 'MA', 'MC', 'MT', 'MX', 'MY', 'NI', 'NL', 'NO', 'NZ', 'OM', 'PA', 'PE', 'PH', 'PL', 'PS', 'PT', 'PY', 'QA', 'RO', 'SA', 'SE', 'SG', 'SK', 'SV', 'TH', 'TN', 'TR', 'TW', 'US', 'UY', 'VN', 'ZA'], 'external_urls': {'spotify': 'https://open.spotify.com/album/2Pyd12Wy5NWActrov1pMUM'}, 'href': 'https://api.spotify.com/v1/albums/2Pyd12Wy5NWActrov1pMUM', 'id': '2Pyd12Wy5NWActrov1pMUM', 'images': [{'height': 640, 'url': 'https://i.scdn.co/image/ab67616d0000b273ecedb634ada3c5e93d1614b1', 'width': 640}, {'height': 300, 'url': 'https://i.scdn.co/image/ab67616d00001e02ecedb634ada3c5e93d1614b1', 'width': 300}, {'height': 64, 'url': 'https://i.scdn.co/image/ab67616d00004851ecedb634ada3c5e93d1614b1', 'width': 64}], 'name': 'vol.BEST', 'release_date': '2005-04-20', 'release_date_precision': 'day', 'total_tracks': 14, 'type': 'album', 'uri': 'spotify:album:2Pyd12Wy5NWActrov1pMUM'}], 'limit': 50, 'next': None, 'offset': 0, 'previous': None, 'total': 28}\n"
          ],
          "name": "stdout"
        }
      ]
    },
    {
      "cell_type": "code",
      "metadata": {
        "id": "tMpdWdzgb_7N",
        "colab_type": "code",
        "colab": {}
      },
      "source": [
        "def get_album_tracks(sp, album_url: str):\n",
        "  \"\"\"\n",
        "  Get IDs and names of all tracks in the album, and returns them in a list.\n",
        "  \n",
        "  :param sp: Spotify client\n",
        "  :param str album_url: URL of album on Spotify\n",
        "  :returns: List containing IDs and names of tracks in the album\n",
        "  \"\"\"\n",
        "  \n",
        "  # Get album information from Spotify\n",
        "  album = sp.album(album_url)\n",
        "  num_tracks = album['total_tracks']\n",
        "  album_name = album['name']\n",
        "  \n",
        "  print(f'Found {num_tracks} in {album_name}')\n",
        "  \n",
        "  # Initialise empty list\n",
        "  track_list = []\n",
        "  \n",
        "  print(f'Start extracting track IDs and names from {album_name}')\n",
        "\n",
        "  # Iterate over all tracks\n",
        "  for track_idx in range(0, num_tracks):\n",
        "    # Record the track ID and name\n",
        "    track_list.append([\n",
        "        album['tracks']['items'][track_idx]['id'],\n",
        "        album['tracks']['items'][track_idx]['name']\n",
        "    ])\n",
        "\n",
        "  print(f'Finished extracting track IDs and names from {album_name}')\n",
        "    \n",
        "  return track_list\n",
        "\n",
        "\n"
      ],
      "execution_count": 0,
      "outputs": []
    }
  ]
}