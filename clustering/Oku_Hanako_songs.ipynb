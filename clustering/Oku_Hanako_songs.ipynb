{
  "nbformat": 4,
  "nbformat_minor": 0,
  "metadata": {
    "colab": {
      "name": "Oku_Hanako_songs.ipynb",
      "provenance": [],
      "collapsed_sections": []
    },
    "kernelspec": {
      "name": "python3",
      "display_name": "Python 3"
    }
  },
  "cells": [
    {
      "cell_type": "markdown",
      "metadata": {
        "id": "yVUFrShrVERQ",
        "colab_type": "text"
      },
      "source": [
        "The data used in this notebook were obtained using the code in /common/get_Spotify_audio_features.ipynb\n",
        "\n",
        "A description of the audio features is documented at https://developer.spotify.com/documentation/web-api/reference/tracks/get-audio-features/"
      ]
    },
    {
      "cell_type": "code",
      "metadata": {
        "id": "QOphy_90V2Cp",
        "colab_type": "code",
        "colab": {}
      },
      "source": [
        "# Suppress output of this cell\n",
        "%%capture\n",
        "\n",
        "\"\"\"Install and import dependencies.\"\"\"\n",
        "# Import pandas for dataframes\n",
        "import pandas as pd \n",
        "\n",
        "# Import matplotlib and seaborn for plotting\n",
        "import matplotlib.pyplot as plt\n",
        "import seaborn as sns\n",
        "sns.set()\n",
        "%matplotlib inline \n",
        "\n",
        "# Import numpy to help with plots\n",
        "import numpy as np\n",
        "\n",
        "# Import scikit-learn for scaling and k-means clustering\n",
        "from sklearn.preprocessing import MinMaxScaler\n",
        "from sklearn.cluster import KMeans"
      ],
      "execution_count": 0,
      "outputs": []
    },
    {
      "cell_type": "code",
      "metadata": {
        "id": "u6J-XNrDSCWY",
        "colab_type": "code",
        "colab": {
          "base_uri": "https://localhost:8080/",
          "height": 129
        },
        "outputId": "a2a8cd5b-1658-41ee-d328-3ac94da197c6"
      },
      "source": [
        "\"\"\"Set up connection to Google Drive.\"\"\"\n",
        "\n",
        "# import Drive helper and mount drive\n",
        "from google.colab import drive\n",
        "drive.mount('/content/drive')"
      ],
      "execution_count": 3,
      "outputs": [
        {
          "output_type": "stream",
          "text": [
            "Go to this URL in a browser: https://accounts.google.com/o/oauth2/auth?client_id=947318989803-6bn6qk8qdgf4n4g3pfee6491hc0brc4i.apps.googleusercontent.com&redirect_uri=urn%3Aietf%3Awg%3Aoauth%3A2.0%3Aoob&scope=email%20https%3A%2F%2Fwww.googleapis.com%2Fauth%2Fdocs.test%20https%3A%2F%2Fwww.googleapis.com%2Fauth%2Fdrive%20https%3A%2F%2Fwww.googleapis.com%2Fauth%2Fdrive.photos.readonly%20https%3A%2F%2Fwww.googleapis.com%2Fauth%2Fpeopleapi.readonly&response_type=code\n",
            "\n",
            "Enter your authorization code:\n",
            "··········\n",
            "Mounted at /content/drive\n"
          ],
          "name": "stdout"
        }
      ]
    },
    {
      "cell_type": "code",
      "metadata": {
        "id": "GdnUfX0-Uv4L",
        "colab_type": "code",
        "colab": {
          "base_uri": "https://localhost:8080/",
          "height": 261
        },
        "outputId": "8949e3c9-2d11-412f-e604-bc344aac1eca"
      },
      "source": [
        "\"\"\"Define paths and load file audio features\"\"\"\n",
        "\n",
        "# Main path in Google Drive\n",
        "home_path = '/content/drive/My Drive/Colab Notebooks'\n",
        "\n",
        "# Path to save data\n",
        "data_path = f'{home_path}/Data/Spotify audio features'\n",
        "\n",
        "# File name\n",
        "save_file_name = 'oku_hanako_audio_features.csv'\n",
        "\n",
        "# Load file\n",
        "all_songs_features = pd.read_csv(f'{data_path}/{save_file_name}')\n",
        "\n",
        "all_songs_features.head(5)"
      ],
      "execution_count": 5,
      "outputs": [
        {
          "output_type": "execute_result",
          "data": {
            "text/html": [
              "<div>\n",
              "<style scoped>\n",
              "    .dataframe tbody tr th:only-of-type {\n",
              "        vertical-align: middle;\n",
              "    }\n",
              "\n",
              "    .dataframe tbody tr th {\n",
              "        vertical-align: top;\n",
              "    }\n",
              "\n",
              "    .dataframe thead th {\n",
              "        text-align: right;\n",
              "    }\n",
              "</style>\n",
              "<table border=\"1\" class=\"dataframe\">\n",
              "  <thead>\n",
              "    <tr style=\"text-align: right;\">\n",
              "      <th></th>\n",
              "      <th>album</th>\n",
              "      <th>track</th>\n",
              "      <th>track_id</th>\n",
              "      <th>acousticness</th>\n",
              "      <th>danceability</th>\n",
              "      <th>duration_ms</th>\n",
              "      <th>energy</th>\n",
              "      <th>instrumentalness</th>\n",
              "      <th>key</th>\n",
              "      <th>liveness</th>\n",
              "      <th>loudness</th>\n",
              "      <th>mode</th>\n",
              "      <th>speechiness</th>\n",
              "      <th>tempo</th>\n",
              "      <th>time_signature</th>\n",
              "      <th>valence</th>\n",
              "    </tr>\n",
              "  </thead>\n",
              "  <tbody>\n",
              "    <tr>\n",
              "      <th>0</th>\n",
              "      <td>Kasumisou</td>\n",
              "      <td>Kaban no Naka no Yakimochi</td>\n",
              "      <td>3krX7tJSZtgcExvoz2Brdt</td>\n",
              "      <td>0.541</td>\n",
              "      <td>0.535</td>\n",
              "      <td>329067</td>\n",
              "      <td>0.323</td>\n",
              "      <td>0.000002</td>\n",
              "      <td>5</td>\n",
              "      <td>0.113</td>\n",
              "      <td>-7.980</td>\n",
              "      <td>1</td>\n",
              "      <td>0.0268</td>\n",
              "      <td>78.248</td>\n",
              "      <td>4</td>\n",
              "      <td>0.339</td>\n",
              "    </tr>\n",
              "    <tr>\n",
              "      <th>1</th>\n",
              "      <td>Kasumisou</td>\n",
              "      <td>Hontowane</td>\n",
              "      <td>2iU639pRsHohsb7JnD3O7s</td>\n",
              "      <td>0.343</td>\n",
              "      <td>0.378</td>\n",
              "      <td>272933</td>\n",
              "      <td>0.473</td>\n",
              "      <td>0.000003</td>\n",
              "      <td>5</td>\n",
              "      <td>0.180</td>\n",
              "      <td>-8.124</td>\n",
              "      <td>1</td>\n",
              "      <td>0.0258</td>\n",
              "      <td>175.899</td>\n",
              "      <td>4</td>\n",
              "      <td>0.572</td>\n",
              "    </tr>\n",
              "    <tr>\n",
              "      <th>2</th>\n",
              "      <td>Kasumisou</td>\n",
              "      <td>Aenakutemo</td>\n",
              "      <td>3brkLSKOt1XqeNWs26q803</td>\n",
              "      <td>0.926</td>\n",
              "      <td>0.361</td>\n",
              "      <td>314493</td>\n",
              "      <td>0.207</td>\n",
              "      <td>0.000699</td>\n",
              "      <td>11</td>\n",
              "      <td>0.128</td>\n",
              "      <td>-12.718</td>\n",
              "      <td>1</td>\n",
              "      <td>0.0290</td>\n",
              "      <td>81.101</td>\n",
              "      <td>4</td>\n",
              "      <td>0.335</td>\n",
              "    </tr>\n",
              "    <tr>\n",
              "      <th>3</th>\n",
              "      <td>Kasumisou</td>\n",
              "      <td>Zettai</td>\n",
              "      <td>2zOZ64scyLxDLCfWMVzBcC</td>\n",
              "      <td>0.850</td>\n",
              "      <td>0.406</td>\n",
              "      <td>303000</td>\n",
              "      <td>0.297</td>\n",
              "      <td>0.000196</td>\n",
              "      <td>9</td>\n",
              "      <td>0.183</td>\n",
              "      <td>-10.697</td>\n",
              "      <td>0</td>\n",
              "      <td>0.0257</td>\n",
              "      <td>83.399</td>\n",
              "      <td>4</td>\n",
              "      <td>0.171</td>\n",
              "    </tr>\n",
              "    <tr>\n",
              "      <th>4</th>\n",
              "      <td>Kasumisou</td>\n",
              "      <td>Negai</td>\n",
              "      <td>76HWQNnmamYdndbKeB5aSo</td>\n",
              "      <td>0.843</td>\n",
              "      <td>0.455</td>\n",
              "      <td>332507</td>\n",
              "      <td>0.393</td>\n",
              "      <td>0.003550</td>\n",
              "      <td>1</td>\n",
              "      <td>0.231</td>\n",
              "      <td>-7.520</td>\n",
              "      <td>1</td>\n",
              "      <td>0.0275</td>\n",
              "      <td>79.010</td>\n",
              "      <td>4</td>\n",
              "      <td>0.220</td>\n",
              "    </tr>\n",
              "  </tbody>\n",
              "</table>\n",
              "</div>"
            ],
            "text/plain": [
              "       album                       track  ... time_signature  valence\n",
              "0  Kasumisou  Kaban no Naka no Yakimochi  ...              4    0.339\n",
              "1  Kasumisou                   Hontowane  ...              4    0.572\n",
              "2  Kasumisou                  Aenakutemo  ...              4    0.335\n",
              "3  Kasumisou                      Zettai  ...              4    0.171\n",
              "4  Kasumisou                       Negai  ...              4    0.220\n",
              "\n",
              "[5 rows x 16 columns]"
            ]
          },
          "metadata": {
            "tags": []
          },
          "execution_count": 5
        }
      ]
    },
    {
      "cell_type": "code",
      "metadata": {
        "id": "syxwZyaPVoor",
        "colab_type": "code",
        "colab": {}
      },
      "source": [
        "\n",
        "\n",
        "\"\"\"\n",
        "1. dedupe\n",
        "-- https://github.com/JMPerez/spotify-dedup/blob/master/app/scripts/deduplicator.js\n",
        "\n",
        "2. feature selection\n",
        "-- \n",
        "\n",
        "3. feature engineering -- encode categorical variables, e.g. variable for A, B, C etc\n",
        "-- \n",
        "\n",
        "4. clustering k-means with number of clusters evaluation\n",
        "-- https://www.kdnuggets.com/2019/10/clustering-metrics-better-elbow-method.html\n",
        "\n",
        "5. PCA and plot\n",
        "\n",
        "6. Publish results on a Tableau public dashboard for others to play with\n",
        "\"\"\""
      ],
      "execution_count": 0,
      "outputs": []
    }
  ]
}