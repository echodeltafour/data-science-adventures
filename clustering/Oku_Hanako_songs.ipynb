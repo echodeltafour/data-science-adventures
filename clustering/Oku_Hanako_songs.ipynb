{
  "nbformat": 4,
  "nbformat_minor": 0,
  "metadata": {
    "colab": {
      "name": "Oku Hanako songs.ipynb",
      "provenance": [],
      "collapsed_sections": []
    },
    "kernelspec": {
      "name": "python3",
      "display_name": "Python 3"
    }
  },
  "cells": [
    {
      "cell_type": "code",
      "metadata": {
        "id": "Qm-ko1VjVkaO",
        "colab_type": "code",
        "outputId": "2111afd4-b989-455c-b910-09595df679b2",
        "colab": {
          "base_uri": "https://localhost:8080/",
          "height": 129
        }
      },
      "source": [
        "\"\"\"Set up connection to Google Drive.\"\"\"\n",
        "\n",
        "# import Drive helper and mount drive\n",
        "from google.colab import drive\n",
        "drive.mount('/content/drive')"
      ],
      "execution_count": 1,
      "outputs": [
        {
          "output_type": "stream",
          "text": [
            "Go to this URL in a browser: https://accounts.google.com/o/oauth2/auth?client_id=947318989803-6bn6qk8qdgf4n4g3pfee6491hc0brc4i.apps.googleusercontent.com&redirect_uri=urn%3Aietf%3Awg%3Aoauth%3A2.0%3Aoob&scope=email%20https%3A%2F%2Fwww.googleapis.com%2Fauth%2Fdocs.test%20https%3A%2F%2Fwww.googleapis.com%2Fauth%2Fdrive%20https%3A%2F%2Fwww.googleapis.com%2Fauth%2Fdrive.photos.readonly%20https%3A%2F%2Fwww.googleapis.com%2Fauth%2Fpeopleapi.readonly&response_type=code\n",
            "\n",
            "Enter your authorization code:\n",
            "··········\n",
            "Mounted at /content/drive\n"
          ],
          "name": "stdout"
        }
      ]
    },
    {
      "cell_type": "code",
      "metadata": {
        "id": "3pf1o0rEVrzR",
        "colab_type": "code",
        "colab": {}
      },
      "source": [
        "# Suppress output of this cell\n",
        "%%capture\n",
        "\n",
        "\"\"\"Install and import dependencies.\"\"\"\n",
        "\n",
        "# Install and import spotipy to access Spotify API\n",
        "!pip install spotipy\n",
        "import spotipy \n",
        "from spotipy.oauth2 import SpotifyClientCredentials \n",
        "\n",
        "# Import configparser for loading configuration file to call Spotify API\n",
        "import configparser\n",
        "\n",
        "# Import pandas for dataframes\n",
        "import pandas as pd \n",
        "\n",
        "# Import matplotlib and seaborn for plotting\n",
        "import matplotlib.pyplot as plt\n",
        "import seaborn as sns\n",
        "sns.set()\n",
        "%matplotlib inline \n",
        "\n",
        "# Import numpy to help with plots\n",
        "import numpy as np\n",
        "\n",
        "# Import scikit-learn for scaling and k-means clustering\n",
        "from sklearn.preprocessing import MinMaxScaler\n",
        "from sklearn.cluster import KMeans"
      ],
      "execution_count": 0,
      "outputs": []
    },
    {
      "cell_type": "code",
      "metadata": {
        "id": "5tE3UbmIXCGz",
        "colab_type": "code",
        "colab": {}
      },
      "source": [
        "\"\"\"Define path variables.\"\"\"\n",
        "\n",
        "# Main path in Google Drive\n",
        "home_path = '/content/drive/My Drive/Colab Notebooks'\n",
        "\n",
        "# Path to the Spotify configuration file\n",
        "config_file_path = f'{home_path}/bin/spotify_client_config.txt'\n",
        "\n",
        "# Path to save data\n",
        "data_path = f'{home_path}/Data/Spotify audio features'"
      ],
      "execution_count": 0,
      "outputs": []
    },
    {
      "cell_type": "code",
      "metadata": {
        "id": "lazK6J3yYKJn",
        "colab_type": "code",
        "outputId": "4066c029-4503-4d44-eceb-3a2250881069",
        "colab": {
          "base_uri": "https://localhost:8080/",
          "height": 54
        }
      },
      "source": [
        "def init_spotify_client(config_file_path: str):\n",
        "  \"\"\"\n",
        "  Initialise Spotify client to use Spotify API.\n",
        "  \n",
        "  Args:\n",
        "      config_file_path: The path to the Spotify config file.\n",
        "      \n",
        "  Returns: \n",
        "      A Spotify client instance.\n",
        "  \"\"\"\n",
        "  # Load the Spotify client configuration file\n",
        "  config = configparser.ConfigParser()\n",
        "  config.read(config_file_path)\n",
        "  \n",
        "  print(f'Loaded config file with settings for: {config.sections()}')\n",
        "\n",
        "  # Use configuration to set up Spotify client authorisation\n",
        "  client_credentials_manager = \\\n",
        "  SpotifyClientCredentials(client_id=config['developer.spotify.com']['cid'], \\\n",
        "                           client_secret=config['developer.spotify.com']['secret'])\n",
        "\n",
        "  # Initialise the Spotify client\n",
        "  sp = spotipy.Spotify(client_credentials_manager=client_credentials_manager)\n",
        "  \n",
        "  print('Authorised Spotify client has been initialised')\n",
        "  \n",
        "  return sp\n",
        "\n",
        "\n",
        "# Initialise the Spotify client\n",
        "sp = init_spotify_client(config_file_path)"
      ],
      "execution_count": 4,
      "outputs": [
        {
          "output_type": "stream",
          "text": [
            "Loaded config file with settings for: ['developer.spotify.com']\n",
            "Authorised Spotify client has been initialised\n"
          ],
          "name": "stdout"
        }
      ]
    },
    {
      "cell_type": "code",
      "metadata": {
        "id": "pg_DmR33f4-y",
        "colab_type": "code",
        "outputId": "b1608ec1-ac9f-4918-b06f-fd00daf2fccf",
        "colab": {
          "base_uri": "https://localhost:8080/",
          "height": 91
        }
      },
      "source": [
        "def get_album_info(sp, artist_url: str, album_type: str, request_limit: int):\n",
        "  \"\"\"\n",
        "  Get album information for an artist on Spotify, and return them in a list.\n",
        "  \n",
        "  Args:\n",
        "      sp: The Spotify client instance.\n",
        "      artist_url: The Spotify URL of an artist.\n",
        "      album_type: The album type to request.\n",
        "      request_limit: The max number of records to return from the API request.\n",
        "      \n",
        "  Returns: \n",
        "      A list containing the names and Spotify URLs of albums for the artist\n",
        "  \"\"\"\n",
        "  \n",
        "  # Get the artist's album information from Spotify\n",
        "  artist_album_info = sp.artist_albums(artist_url, album_type=album_type, limit=request_limit)\n",
        "  \n",
        "  # Get the list of albums\n",
        "  album_list = artist_album_info['items']\n",
        "  \n",
        "  # Count the number of albums \n",
        "  num_albums = len(album_list)\n",
        "  \n",
        "  # Initialise empty list\n",
        "  output_list = []\n",
        "  \n",
        "  # Check that there is at least 1 album\n",
        "  if num_albums > 0:\n",
        "    # Iterate over all albums\n",
        "    for album_idx in range(0, num_albums):\n",
        "      # Check that the album is the global version\n",
        "      if album_list[album_idx]['available_markets'][0] != 'JP':\n",
        "        # Record the album name and Spotify URL\n",
        "        output_list.append([\n",
        "            album_list[album_idx]['name'],\n",
        "            album_list[album_idx]['external_urls']['spotify']\n",
        "        ])\n",
        "  \n",
        "  print(f'Got {len(output_list)} album(s) of type \"{album_type}\"')\n",
        "  \n",
        "  return output_list\n",
        "\n",
        "\n",
        "def get_artist_albums(sp, artist_url: str):\n",
        "  \"\"\"\n",
        "  Get the names and Spotify URLs of all albums for an artist on Spotify, and return them in a list.\n",
        "  \n",
        "  Args:\n",
        "      sp: The Spotify client.\n",
        "      artist_url: The Spotify URL of an artist.\n",
        "      \n",
        "  Returns: \n",
        "      A list containing the album names and Spotify URLs for the artist\n",
        "  \"\"\"\n",
        "  \n",
        "  # Set limit to 50, which is the maximum\n",
        "  request_limit = 50\n",
        "  \n",
        "  # Get all album information from Spotify\n",
        "  artist_album_info = get_album_info(sp, artist_url, 'album', request_limit)\n",
        "  artist_single_info = get_album_info(sp, artist_url, 'single', request_limit)\n",
        "  artist_compilation_info = get_album_info(sp, artist_url, 'compilation', request_limit)\n",
        "  \n",
        "  all_album_info = artist_album_info + artist_single_info + artist_compilation_info\n",
        "  \n",
        "  print(f'Total number of albums: {len(all_album_info)}')\n",
        "  \n",
        "  return all_album_info\n",
        "  \n",
        "  \n",
        "# Oku Hanako's Spotify URL\n",
        "oku_hanako_url = 'https://open.spotify.com/artist/2tOwqfTtAMswbLySSaTRYR'\n",
        "\n",
        "# Get album names and URLs\n",
        "all_album_info = get_artist_albums(sp, oku_hanako_url)"
      ],
      "execution_count": 31,
      "outputs": [
        {
          "output_type": "stream",
          "text": [
            "Got 14 album(s) of type \"album\"\n",
            "Got 22 album(s) of type \"single\"\n",
            "Got 0 album(s) of type \"compilation\"\n",
            "Total number of albums: 36\n"
          ],
          "name": "stdout"
        }
      ]
    },
    {
      "cell_type": "code",
      "metadata": {
        "id": "tMpdWdzgb_7N",
        "colab_type": "code",
        "colab": {}
      },
      "source": [
        "def get_album_tracks(sp, album_url: str):\n",
        "  \"\"\"\n",
        "  Get IDs and names of all tracks in the album, and return them in a list.\n",
        "  \n",
        "  :param sp: Spotify client\n",
        "  :param str album_url: URL of album on Spotify\n",
        "  :returns: List containing IDs and names of tracks in the album\n",
        "  \"\"\"\n",
        "  \n",
        "  # Get album information from Spotify\n",
        "  album = sp.album(album_url)\n",
        "  num_tracks = album['total_tracks']\n",
        "  album_name = album['name']\n",
        "  \n",
        "  print(f'Found {num_tracks} in {album_name}')\n",
        "  \n",
        "  # Initialise empty list\n",
        "  track_list = []\n",
        "  \n",
        "  print(f'Start extracting track IDs and names from {album_name}')\n",
        "\n",
        "  # Iterate over all tracks\n",
        "  for track_idx in range(0, num_tracks):\n",
        "    # Record the track ID and name\n",
        "    track_list.append([\n",
        "        album['tracks']['items'][track_idx]['id'],\n",
        "        album['tracks']['items'][track_idx]['name']\n",
        "    ])\n",
        "\n",
        "  print(f'Finished extracting track IDs and names from {album_name}')\n",
        "    \n",
        "  return track_list\n",
        "\n",
        "\n"
      ],
      "execution_count": 0,
      "outputs": []
    }
  ]
}