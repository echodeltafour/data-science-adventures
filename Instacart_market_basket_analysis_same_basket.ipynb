{
  "nbformat": 4,
  "nbformat_minor": 0,
  "metadata": {
    "colab": {
      "name": "Instacart market basket analysis - same basket.ipynb",
      "version": "0.3.2",
      "provenance": [],
      "collapsed_sections": [
        "je74uoIonDKu"
      ]
    },
    "kernelspec": {
      "name": "python3",
      "display_name": "Python 3"
    }
  },
  "cells": [
    {
      "cell_type": "markdown",
      "metadata": {
        "id": "5xmEeO_m3qK9",
        "colab_type": "text"
      },
      "source": [
        "#Market Basket Analysis\n",
        "\n",
        "A market basket analysis uses asosciation rule mining to find out what products or product categories are frequently purchased in the same basket or in subsequent baskets. This is useful for developing rules to automatically recommend products to customers based on items in their current basket or their previous transactions.\n",
        "\n",
        "The data used in this notebook is the Instacart Online Grocery Shopping Dataset 2017 (Instacart, 2017). Guidance on using the mlxtend library for association rule mining came from reference to Moffet (2017) and Wong (2018)."
      ]
    },
    {
      "cell_type": "markdown",
      "metadata": {
        "id": "DvexYRRphzEg",
        "colab_type": "text"
      },
      "source": [
        "##1. Prepare notebook\n",
        "\n",
        "Prepare the notebook by importing these packages:\n",
        "* <code>pandas</code> -- for dataframes\n",
        "* <code>matplotlib</code> -- for plotting\n",
        "* <code>seaborn</code>-- for plotting\n",
        "* <code>numpy</code> -- for creating series where helpful for plotting\n",
        "* <code>mlxtend</code> -- for association rule mining\n",
        "* <code>gc</code> -- for manual garbage collection to manage memory use\n",
        "* <code>drive</code> from <code>google.colab</code> -- read data from Google Drive\n",
        "\n",
        "After importing the packages, the notebook is connected to my Google Drive where I have put the data. A set of functions are defined at the start. This allows subsequent cells to call the functions and thus less code is put between the exciting parts of the notebook."
      ]
    },
    {
      "cell_type": "code",
      "metadata": {
        "id": "3fOZeUAUrKE1",
        "colab_type": "code",
        "colab": {}
      },
      "source": [
        "# Import pandas for storing data in dataframes\n",
        "import pandas as pd\n",
        "\n",
        "# Import matplotlib and seaborn for plotting\n",
        "import matplotlib.pyplot as plt\n",
        "import seaborn as sns\n",
        "\n",
        "# Enable seaborn format\n",
        "sns.set()\n",
        "\n",
        "# Nice to have in Jupyter Notebooks\n",
        "%matplotlib inline \n",
        "\n",
        "# Import numpy for its help to create plots\n",
        "import numpy as np\n",
        "\n",
        "# Import mlxtend for association rule mining functions\n",
        "from mlxtend.frequent_patterns import apriori\n",
        "from mlxtend.frequent_patterns import association_rules\n",
        "import mlxtend as ml\n",
        "\n",
        "# For manual garbage collection\n",
        "import gc\n",
        "\n",
        "# Allow display to show all columns\n",
        "pd.options.display.max_columns = None"
      ],
      "execution_count": 0,
      "outputs": []
    },
    {
      "cell_type": "code",
      "metadata": {
        "id": "B2CDUyKptOz8",
        "colab_type": "code",
        "outputId": "d1f916eb-ba01-4696-acfe-3444878ec4b7",
        "colab": {
          "base_uri": "https://localhost:8080/",
          "height": 129
        }
      },
      "source": [
        "# Import Drive helper and mount drive\n",
        "from google.colab import drive\n",
        "drive.mount('/content/drive')"
      ],
      "execution_count": 0,
      "outputs": [
        {
          "output_type": "stream",
          "text": [
            "Go to this URL in a browser: https://accounts.google.com/o/oauth2/auth?client_id=947318989803-6bn6qk8qdgf4n4g3pfee6491hc0brc4i.apps.googleusercontent.com&redirect_uri=urn%3Aietf%3Awg%3Aoauth%3A2.0%3Aoob&scope=email%20https%3A%2F%2Fwww.googleapis.com%2Fauth%2Fdocs.test%20https%3A%2F%2Fwww.googleapis.com%2Fauth%2Fdrive%20https%3A%2F%2Fwww.googleapis.com%2Fauth%2Fdrive.photos.readonly%20https%3A%2F%2Fwww.googleapis.com%2Fauth%2Fpeopleapi.readonly&response_type=code\n",
            "\n",
            "Enter your authorization code:\n",
            "··········\n",
            "Mounted at /content/drive\n"
          ],
          "name": "stdout"
        }
      ]
    },
    {
      "cell_type": "code",
      "metadata": {
        "id": "-BDzFUIF7KjU",
        "colab_type": "code",
        "outputId": "84a068e4-199c-46a2-f519-f0d0ddb74070",
        "colab": {
          "base_uri": "https://localhost:8080/",
          "height": 72
        }
      },
      "source": [
        "# List the available files\n",
        "ls '/content/drive/My Drive/Colab Notebooks/Data/Instacart May 2017/'"
      ],
      "execution_count": 0,
      "outputs": [
        {
          "output_type": "stream",
          "text": [
            " aisles.csv              departments.csv             orders.csv\n",
            " Citation.txt            order_products__prior.csv   products.csv\n",
            "'Data dictionary.docx'   order_products__train.csv\n"
          ],
          "name": "stdout"
        }
      ]
    },
    {
      "cell_type": "markdown",
      "metadata": {
        "id": "je74uoIonDKu",
        "colab_type": "text"
      },
      "source": [
        "###Functions used in this notebook\n",
        "\n",
        "This notebook is set up with some functions so that after this large cell, subsequent cells contain less code.\n",
        "  \n",
        "  1. <code>loadFile</code> -- Load the csv files into dataframes\n",
        "  2. <code>joinNamesToOrderProducts</code> -- Join dataframes to get product name, aisle name, and department name for each product in each order\n",
        "  3. <code>plotMostPopular</code> --  Produce a plot of the most popular product categories by how many times they are bought\n",
        "  4. <code>prepareDataframe</code> -- Prepare the dataframe for association rule mining"
      ]
    },
    {
      "cell_type": "code",
      "metadata": {
        "id": "ZajHDPKf7IDV",
        "colab_type": "code",
        "colab": {}
      },
      "source": [
        "# Functions used in this notebook\n",
        "\n",
        "def loadFile(path, filename):\n",
        "  \"\"\"\n",
        "  Load text file to pandas dataframe using default pd.read_csv settings, then print schema.\n",
        "  \n",
        "  :param path: path to folder where file is located\n",
        "  :param filename: name of the file to load\n",
        "  :returns: pandas dataframe of loaded text file\n",
        "  \"\"\"\n",
        "  df = pd.read_csv(path + filename)\n",
        "  print(' ')\n",
        "  print(f'Loaded {filename}')\n",
        "  print(df.info())\n",
        "  return df\n",
        "\n",
        "\n",
        "def joinNamesToOrderProducts(orderProducts, products, aisles, departments, orders):\n",
        "  \"\"\"\n",
        "  Merge products, aisles, and departments to orderProducts, then select name columns.\n",
        "  \n",
        "  :param orderProducts: the order vs products dataframe\n",
        "  :param products: the products dataframe\n",
        "  :param aisles: the aisles dataframe\n",
        "  :param department: the departments dataframe\n",
        "  :param orders: the orders dataframe\n",
        "  :returns: dataframe of orderProducts with names\n",
        "  \"\"\"\n",
        "  orderProductsWithNames = orderProducts \\\n",
        "  .merge(products, how='inner', on='product_id') \\\n",
        "  .merge(aisles, how='inner', on='aisle_id') \\\n",
        "  .merge(departments, how='inner', on='department_id') \\\n",
        "  .merge(orders, how='inner', on='order_id') \\\n",
        "  [['order_id', 'product_name', 'aisle', 'department']]\n",
        "  print(' ')\n",
        "  print('Added names to order vs products')\n",
        "  print(orderProductsWithNames.info())\n",
        "  return orderProductsWithNames\n",
        "\n",
        "\n",
        "def plotMostPopular(df, groupByCol, topX):\n",
        "  \"\"\"\n",
        "  Plot the top X most popular products or product categories\n",
        "  \n",
        "  :param df: Input dataframe\n",
        "  :param groupByCol: Column to group by for counting\n",
        "  :param topX: Number of top values to show in plot\n",
        "  :returns: None\n",
        "  \"\"\"\n",
        "  # Set style so that text can be read against a dark background\n",
        "  sns.set_style('darkgrid')\n",
        "  \n",
        "  # Make the plot\n",
        "  sns.countplot(x = groupByCol, \\\n",
        "                data = df, \\\n",
        "                order = df[groupByCol].value_counts().iloc[:topX].index)\n",
        "  \n",
        "  # Rotate the x-axis labels so they do not overlap with each other\n",
        "  plt.xticks(rotation=90)\n",
        "  return None\n",
        "\n",
        "\n",
        "def prepareDataframe(orderProductsWithNames, groupByCol):\n",
        "  \"\"\"\n",
        "  Transpose and ecode orderProductsWithNames for market basket analysis\n",
        "  \n",
        "  :param orderProductsWithNames: the orderProductsWithNames dataframe\n",
        "  :param groupByCol: Column to group by for counting\n",
        "  :returns: transposed and encoded dataframe\n",
        "  \"\"\"\n",
        "  \n",
        "  # Attach count column\n",
        "  df = orderProductsWithNames\\\n",
        "  .groupby(['order_id', groupByCol])\\\n",
        "  .size()\\\n",
        "  .reset_index(name='count')\n",
        "  \n",
        "  # Transpose the dataframe so each row is one order\n",
        "  # and the product categories are the columns\n",
        "  basket = df \\\n",
        "  .groupby(['order_id', groupByCol])['count'] \\\n",
        "  .sum() \\\n",
        "  .unstack() \\\n",
        "  .reset_index() \\\n",
        "  .fillna(0) \\\n",
        "  .set_index('order_id')\n",
        "  \n",
        "  # Apply encoding\n",
        "  basketSets = basket.applymap(lambda x: 1 if x >= 1 else 0)\n",
        "  \n",
        "  return basketSets\n"
      ],
      "execution_count": 0,
      "outputs": []
    },
    {
      "cell_type": "markdown",
      "metadata": {
        "id": "o7tGZg0SjJV0",
        "colab_type": "text"
      },
      "source": [
        "##2. Load and prepare data\n",
        "\n",
        "There are 5 files to load:\n",
        "* aisles.csv -- lookup for name of each aisle ID\n",
        "* departments.csv -- lookup for name of each department ID\n",
        "* order_products__prior.csv -- products in each order, for the \"prior\" data set to extract insights for making predictions\n",
        "* products.csv -- lookup for name of each product ID\n",
        "* orders.csv -- the history or orders\n",
        "\n",
        "The orders data is filtered to retain only the \"prior\" orders. This will prevent leakage of future data affecting the any predictions that may be made. There are also orders labelled as \"train\" and \"test\". These orders are made after the \"prior\" orders. A sample of 100,000 \"prior\" orders is used so that later processes do not exceed the notebook's RAM.\n",
        "\n",
        "The filtered orders data is joined with the aisle, departments, products, and order vs products data sets to get the names of the products, aisles, and departments. The resultant dataframe takes up a large amount of RAM because strings (the data type of the names) take up a lot more space than numbers (the data type of the IDs). In a production process, this should be avoided. This analysis takes this step so that results show names, which are easier to understand than IDs."
      ]
    },
    {
      "cell_type": "code",
      "metadata": {
        "id": "JdJL9qozANU4",
        "colab_type": "code",
        "outputId": "786b46d0-b932-4e23-c2b4-3560263450ad",
        "colab": {
          "base_uri": "https://localhost:8080/",
          "height": 1615
        }
      },
      "source": [
        "# Define path to the folder containing the files\n",
        "path = '/content/drive/My Drive/Colab Notebooks/Data/Instacart May 2017/'\n",
        "\n",
        "# Load the files and show their schema\n",
        "### Notes\n",
        "# orders[orders['eval_set']=='prior']['order_id'].nunique() = 3214874\n",
        "aisles = loadFile(path, 'aisles.csv')\n",
        "departments = loadFile(path, 'departments.csv')\n",
        "orderProducts = loadFile(path, 'order_products__prior.csv')\n",
        "products = loadFile(path, 'products.csv')\n",
        "orders = loadFile(path, 'orders.csv') \n",
        "\n",
        "# Filter orders to retain only the prior transactions\n",
        "# Keep a sample to reduce memory load\n",
        "ordersPrior = orders[orders['eval_set']=='prior']\\\n",
        ".sample(100000, random_state=38)\n",
        "print(' ')\n",
        "print('ordersPrior - prior orders only')\n",
        "print(ordersPrior.info())\n",
        "\n",
        "# Join dataframes to get names of product, aisle, and department\n",
        "orderProductsWithNames = joinNamesToOrderProducts(orderProducts, products, aisles, departments, orders)\n",
        "\n",
        "# Remove large dataframes from memory\n",
        "del orders\n",
        "del orderProducts\n",
        "gc.collect()"
      ],
      "execution_count": 0,
      "outputs": [
        {
          "output_type": "stream",
          "text": [
            " \n",
            "Loaded aisles.csv\n",
            "<class 'pandas.core.frame.DataFrame'>\n",
            "RangeIndex: 134 entries, 0 to 133\n",
            "Data columns (total 2 columns):\n",
            "aisle_id    134 non-null int64\n",
            "aisle       134 non-null object\n",
            "dtypes: int64(1), object(1)\n",
            "memory usage: 2.2+ KB\n",
            "None\n",
            " \n",
            "Loaded departments.csv\n",
            "<class 'pandas.core.frame.DataFrame'>\n",
            "RangeIndex: 21 entries, 0 to 20\n",
            "Data columns (total 2 columns):\n",
            "department_id    21 non-null int64\n",
            "department       21 non-null object\n",
            "dtypes: int64(1), object(1)\n",
            "memory usage: 416.0+ bytes\n",
            "None\n",
            " \n",
            "Loaded order_products__prior.csv\n",
            "<class 'pandas.core.frame.DataFrame'>\n",
            "RangeIndex: 32434489 entries, 0 to 32434488\n",
            "Data columns (total 4 columns):\n",
            "order_id             int64\n",
            "product_id           int64\n",
            "add_to_cart_order    int64\n",
            "reordered            int64\n",
            "dtypes: int64(4)\n",
            "memory usage: 989.8 MB\n",
            "None\n",
            " \n",
            "Loaded products.csv\n",
            "<class 'pandas.core.frame.DataFrame'>\n",
            "RangeIndex: 49688 entries, 0 to 49687\n",
            "Data columns (total 4 columns):\n",
            "product_id       49688 non-null int64\n",
            "product_name     49688 non-null object\n",
            "aisle_id         49688 non-null int64\n",
            "department_id    49688 non-null int64\n",
            "dtypes: int64(3), object(1)\n",
            "memory usage: 1.5+ MB\n",
            "None\n",
            " \n",
            "Loaded orders.csv\n",
            "<class 'pandas.core.frame.DataFrame'>\n",
            "RangeIndex: 3421083 entries, 0 to 3421082\n",
            "Data columns (total 7 columns):\n",
            "order_id                  int64\n",
            "user_id                   int64\n",
            "eval_set                  object\n",
            "order_number              int64\n",
            "order_dow                 int64\n",
            "order_hour_of_day         int64\n",
            "days_since_prior_order    float64\n",
            "dtypes: float64(1), int64(5), object(1)\n",
            "memory usage: 182.7+ MB\n",
            "None\n",
            " \n",
            "ordersPrior - prior orders only\n",
            "<class 'pandas.core.frame.DataFrame'>\n",
            "Int64Index: 100000 entries, 1794863 to 832531\n",
            "Data columns (total 7 columns):\n",
            "order_id                  100000 non-null int64\n",
            "user_id                   100000 non-null int64\n",
            "eval_set                  100000 non-null object\n",
            "order_number              100000 non-null int64\n",
            "order_dow                 100000 non-null int64\n",
            "order_hour_of_day         100000 non-null int64\n",
            "days_since_prior_order    93584 non-null float64\n",
            "dtypes: float64(1), int64(5), object(1)\n",
            "memory usage: 6.1+ MB\n",
            "None\n",
            " \n",
            "Added names to order vs products\n",
            "<class 'pandas.core.frame.DataFrame'>\n",
            "Int64Index: 32434489 entries, 0 to 32434488\n",
            "Data columns (total 4 columns):\n",
            "order_id        int64\n",
            "product_name    object\n",
            "aisle           object\n",
            "department      object\n",
            "dtypes: int64(1), object(3)\n",
            "memory usage: 1.2+ GB\n",
            "None\n"
          ],
          "name": "stdout"
        },
        {
          "output_type": "execute_result",
          "data": {
            "text/plain": [
              "88"
            ]
          },
          "metadata": {
            "tags": []
          },
          "execution_count": 5
        }
      ]
    },
    {
      "cell_type": "markdown",
      "metadata": {
        "id": "3N-6RUABkBYR",
        "colab_type": "text"
      },
      "source": [
        "##3. Select product category and plot most popular categories\n",
        "\n",
        "There are 3 levels available for association rule mining. The most granular level is the product level with 49,688 distinct values. The next most granular level is the aisle level with 134 distinct values. The last and least granular level is the department level with 21 distinct values.\n",
        "\n",
        "Using the most granular level allows the most specific associations to be found. However, the large number of values will significantly increase the computation cost because the number of combinations increases superlinearly with the number of values. On the other extreme, using the least granular level will result in the lowest computation cost at the expense of less specific associations. In this notebook, the middle ground of the aisle level is used.\n",
        "\n",
        "A plot is made of the most popular aisles. The popularity is defined by the number of products ordered from that aisle. For example, if an order has 2 products from the same aisle, that will count as 2. This is useful to check that the found association rules make sense because a popular aisle is very likely to have an association with another aisle. If the most popular aisles do not appear in the discovered association rules, then something is likely wrong in the analysis."
      ]
    },
    {
      "cell_type": "code",
      "metadata": {
        "id": "8vYsDwt1cGI3",
        "colab_type": "code",
        "colab": {}
      },
      "source": [
        "# Choose the product category\n",
        "#prodCatLevel = 'department'\n",
        "prodCatLevel = 'aisle'\n",
        "#prodCatLevel = 'product'"
      ],
      "execution_count": 0,
      "outputs": []
    },
    {
      "cell_type": "code",
      "metadata": {
        "id": "sKnRh92V9ANn",
        "colab_type": "code",
        "outputId": "5f8adaca-b3a3-4329-b4e6-c3058b6586c9",
        "colab": {
          "base_uri": "https://localhost:8080/",
          "height": 443
        }
      },
      "source": [
        "# Plot most popular categories\n",
        "plotMostPopular(orderProductsWithNames, prodCatLevel, 20)"
      ],
      "execution_count": 0,
      "outputs": [
        {
          "output_type": "display_data",
          "data": {
            "image/png": "[encoded data removed]",
            "text/plain": [
              "<Figure size 432x288 with 1 Axes>"
            ]
          },
          "metadata": {
            "tags": []
          }
        }
      ]
    },
    {
      "cell_type": "markdown",
      "metadata": {
        "id": "msTSX9SIkvBh",
        "colab_type": "text"
      },
      "source": [
        "## 4. Association rule mining\n",
        "\n",
        "Each row in the dataframe of orders vs products is a combination of an order and a product included in that order. \n",
        "This means that an order ID will appear in multiple rows. \n",
        "The <code>mlxtend</code> association rule mining functions require each order to occupy only one row, and thus the columns are the product categories.\n",
        "If one or more item from a product category is bought in an order, then a \"1\" is put in the cell for that order (row) and product (column).\n",
        "Otherwise, the value is \"0\".\n",
        "Due to this requirement, the order vs products dataframe must first be transposed and have values transformed so that it complies with the format required by <code>mlxtend</code>.\n",
        "\n",
        "After the dataframe has been prepared, the first step in association rule mining is to calculate the support for combinations of multiple product categories by using the <code>apriori</code> fuction. \n",
        "The support is the fraction of orders that contain the combination of product categories. \n",
        "A minimum support threshold is defined so that further analysis ignores products or product categories that are rarely bought.\n",
        "\n",
        "A maximum combination of product categories is also defined.\n",
        "If the value is set to 1, then the function will only calculate support for individual product categories.\n",
        "Finding association rules requires having support for a combination of 2 or more product categories, therefore the value must be set to 2 or greater.\n",
        "\n",
        "The second step is to find the association rules. \n",
        "This step takes the product category combinations found in the first step and calculates additional metrics to evaluate whether the combination is useful as a rule or not.\n",
        "One metric is confidence.\n",
        "Confidence evaluates how often the second product category is bought, given that the first product category has been bought.\n",
        "In other words, it is how often the rule is true when the condition is met to apply the rule.\n",
        "The higher the confidence (maximum of 1), the more often the rule is true.\n",
        "\n",
        "Another metric is lift.\n",
        "Lift evaluates whether the combination of product categories is occurring because customers want to buy the product categories together, or because it is occuring at random.\n",
        "If lift is 1, then the data suggests that the combination of product categories is occurring at random.\n",
        "The higher the lift, the more likely the combination of product categories is due to customers wnating to buy the combination."
      ]
    },
    {
      "cell_type": "code",
      "metadata": {
        "id": "IMtaE7fcnKtA",
        "colab_type": "code",
        "colab": {}
      },
      "source": [
        "# Transpose the dataframe so each row is one order\n",
        "# and the product categories are the columns\n",
        "### Insufficient RAM to process 'aisle' or 'product' on all 3 million prior orders\n",
        "basketSet = prepareDataframe(orderProductsWithNames, prodCatLevel)"
      ],
      "execution_count": 0,
      "outputs": []
    },
    {
      "cell_type": "code",
      "metadata": {
        "id": "q1PYuc9HVdGk",
        "colab_type": "code",
        "outputId": "d2d430e5-c559-40fa-b260-b2ba05363cd5",
        "colab": {
          "base_uri": "https://localhost:8080/",
          "height": 426
        }
      },
      "source": [
        "# Find product categories frequently bought\n",
        "# Define max_len to reduce memory load\n",
        "itemSupport = apriori(basketSet, min_support=0.15, use_colnames=True, max_len=2)\n",
        "\n",
        "# Find the association rules\n",
        "rules = association_rules(itemSupport, metric='lift', min_threshold=1)\n",
        "\n",
        "display(rules.sort_values(by='lift', ascending=False).head(20))"
      ],
      "execution_count": 0,
      "outputs": [
        {
          "output_type": "display_data",
          "data": {
            "text/html": [
              "<div>\n",
              "<style scoped>\n",
              "    .dataframe tbody tr th:only-of-type {\n",
              "        vertical-align: middle;\n",
              "    }\n",
              "\n",
              "    .dataframe tbody tr th {\n",
              "        vertical-align: top;\n",
              "    }\n",
              "\n",
              "    .dataframe thead th {\n",
              "        text-align: right;\n",
              "    }\n",
              "</style>\n",
              "<table border=\"1\" class=\"dataframe\">\n",
              "  <thead>\n",
              "    <tr style=\"text-align: right;\">\n",
              "      <th></th>\n",
              "      <th>antecedents</th>\n",
              "      <th>consequents</th>\n",
              "      <th>antecedent support</th>\n",
              "      <th>consequent support</th>\n",
              "      <th>support</th>\n",
              "      <th>confidence</th>\n",
              "      <th>lift</th>\n",
              "      <th>leverage</th>\n",
              "      <th>conviction</th>\n",
              "    </tr>\n",
              "  </thead>\n",
              "  <tbody>\n",
              "    <tr>\n",
              "      <th>11</th>\n",
              "      <td>(packaged vegetables fruits)</td>\n",
              "      <td>(fresh vegetables)</td>\n",
              "      <td>0.366808</td>\n",
              "      <td>0.444071</td>\n",
              "      <td>0.234454</td>\n",
              "      <td>0.639173</td>\n",
              "      <td>1.439349</td>\n",
              "      <td>0.071565</td>\n",
              "      <td>1.540708</td>\n",
              "    </tr>\n",
              "    <tr>\n",
              "      <th>10</th>\n",
              "      <td>(fresh vegetables)</td>\n",
              "      <td>(packaged vegetables fruits)</td>\n",
              "      <td>0.444071</td>\n",
              "      <td>0.366808</td>\n",
              "      <td>0.234454</td>\n",
              "      <td>0.527966</td>\n",
              "      <td>1.439349</td>\n",
              "      <td>0.071565</td>\n",
              "      <td>1.341410</td>\n",
              "    </tr>\n",
              "    <tr>\n",
              "      <th>6</th>\n",
              "      <td>(fresh fruits)</td>\n",
              "      <td>(packaged vegetables fruits)</td>\n",
              "      <td>0.557027</td>\n",
              "      <td>0.366808</td>\n",
              "      <td>0.270270</td>\n",
              "      <td>0.485201</td>\n",
              "      <td>1.322763</td>\n",
              "      <td>0.065948</td>\n",
              "      <td>1.229977</td>\n",
              "    </tr>\n",
              "    <tr>\n",
              "      <th>7</th>\n",
              "      <td>(packaged vegetables fruits)</td>\n",
              "      <td>(fresh fruits)</td>\n",
              "      <td>0.366808</td>\n",
              "      <td>0.557027</td>\n",
              "      <td>0.270270</td>\n",
              "      <td>0.736814</td>\n",
              "      <td>1.322763</td>\n",
              "      <td>0.065948</td>\n",
              "      <td>1.683120</td>\n",
              "    </tr>\n",
              "    <tr>\n",
              "      <th>0</th>\n",
              "      <td>(fresh fruits)</td>\n",
              "      <td>(fresh vegetables)</td>\n",
              "      <td>0.557027</td>\n",
              "      <td>0.444071</td>\n",
              "      <td>0.317762</td>\n",
              "      <td>0.570460</td>\n",
              "      <td>1.284617</td>\n",
              "      <td>0.070403</td>\n",
              "      <td>1.294245</td>\n",
              "    </tr>\n",
              "    <tr>\n",
              "      <th>1</th>\n",
              "      <td>(fresh vegetables)</td>\n",
              "      <td>(fresh fruits)</td>\n",
              "      <td>0.444071</td>\n",
              "      <td>0.557027</td>\n",
              "      <td>0.317762</td>\n",
              "      <td>0.715566</td>\n",
              "      <td>1.284617</td>\n",
              "      <td>0.070403</td>\n",
              "      <td>1.557384</td>\n",
              "    </tr>\n",
              "    <tr>\n",
              "      <th>8</th>\n",
              "      <td>(fresh fruits)</td>\n",
              "      <td>(yogurt)</td>\n",
              "      <td>0.557027</td>\n",
              "      <td>0.263488</td>\n",
              "      <td>0.188071</td>\n",
              "      <td>0.337633</td>\n",
              "      <td>1.281399</td>\n",
              "      <td>0.041301</td>\n",
              "      <td>1.111940</td>\n",
              "    </tr>\n",
              "    <tr>\n",
              "      <th>9</th>\n",
              "      <td>(yogurt)</td>\n",
              "      <td>(fresh fruits)</td>\n",
              "      <td>0.263488</td>\n",
              "      <td>0.557027</td>\n",
              "      <td>0.188071</td>\n",
              "      <td>0.713774</td>\n",
              "      <td>1.281399</td>\n",
              "      <td>0.041301</td>\n",
              "      <td>1.547632</td>\n",
              "    </tr>\n",
              "    <tr>\n",
              "      <th>4</th>\n",
              "      <td>(fresh fruits)</td>\n",
              "      <td>(packaged cheese)</td>\n",
              "      <td>0.557027</td>\n",
              "      <td>0.229527</td>\n",
              "      <td>0.154977</td>\n",
              "      <td>0.278222</td>\n",
              "      <td>1.212154</td>\n",
              "      <td>0.027124</td>\n",
              "      <td>1.067465</td>\n",
              "    </tr>\n",
              "    <tr>\n",
              "      <th>5</th>\n",
              "      <td>(packaged cheese)</td>\n",
              "      <td>(fresh fruits)</td>\n",
              "      <td>0.229527</td>\n",
              "      <td>0.557027</td>\n",
              "      <td>0.154977</td>\n",
              "      <td>0.675202</td>\n",
              "      <td>1.212154</td>\n",
              "      <td>0.027124</td>\n",
              "      <td>1.363843</td>\n",
              "    </tr>\n",
              "    <tr>\n",
              "      <th>2</th>\n",
              "      <td>(fresh fruits)</td>\n",
              "      <td>(milk)</td>\n",
              "      <td>0.557027</td>\n",
              "      <td>0.244485</td>\n",
              "      <td>0.164421</td>\n",
              "      <td>0.295176</td>\n",
              "      <td>1.207341</td>\n",
              "      <td>0.028237</td>\n",
              "      <td>1.071921</td>\n",
              "    </tr>\n",
              "    <tr>\n",
              "      <th>3</th>\n",
              "      <td>(milk)</td>\n",
              "      <td>(fresh fruits)</td>\n",
              "      <td>0.244485</td>\n",
              "      <td>0.557027</td>\n",
              "      <td>0.164421</td>\n",
              "      <td>0.672521</td>\n",
              "      <td>1.207341</td>\n",
              "      <td>0.028237</td>\n",
              "      <td>1.352678</td>\n",
              "    </tr>\n",
              "  </tbody>\n",
              "</table>\n",
              "</div>"
            ],
            "text/plain": [
              "                     antecedents                   consequents  \\\n",
              "11  (packaged vegetables fruits)            (fresh vegetables)   \n",
              "10            (fresh vegetables)  (packaged vegetables fruits)   \n",
              "6                 (fresh fruits)  (packaged vegetables fruits)   \n",
              "7   (packaged vegetables fruits)                (fresh fruits)   \n",
              "0                 (fresh fruits)            (fresh vegetables)   \n",
              "1             (fresh vegetables)                (fresh fruits)   \n",
              "8                 (fresh fruits)                      (yogurt)   \n",
              "9                       (yogurt)                (fresh fruits)   \n",
              "4                 (fresh fruits)             (packaged cheese)   \n",
              "5              (packaged cheese)                (fresh fruits)   \n",
              "2                 (fresh fruits)                        (milk)   \n",
              "3                         (milk)                (fresh fruits)   \n",
              "\n",
              "    antecedent support  consequent support   support  confidence      lift  \\\n",
              "11            0.366808            0.444071  0.234454    0.639173  1.439349   \n",
              "10            0.444071            0.366808  0.234454    0.527966  1.439349   \n",
              "6             0.557027            0.366808  0.270270    0.485201  1.322763   \n",
              "7             0.366808            0.557027  0.270270    0.736814  1.322763   \n",
              "0             0.557027            0.444071  0.317762    0.570460  1.284617   \n",
              "1             0.444071            0.557027  0.317762    0.715566  1.284617   \n",
              "8             0.557027            0.263488  0.188071    0.337633  1.281399   \n",
              "9             0.263488            0.557027  0.188071    0.713774  1.281399   \n",
              "4             0.557027            0.229527  0.154977    0.278222  1.212154   \n",
              "5             0.229527            0.557027  0.154977    0.675202  1.212154   \n",
              "2             0.557027            0.244485  0.164421    0.295176  1.207341   \n",
              "3             0.244485            0.557027  0.164421    0.672521  1.207341   \n",
              "\n",
              "    leverage  conviction  \n",
              "11  0.071565    1.540708  \n",
              "10  0.071565    1.341410  \n",
              "6   0.065948    1.229977  \n",
              "7   0.065948    1.683120  \n",
              "0   0.070403    1.294245  \n",
              "1   0.070403    1.557384  \n",
              "8   0.041301    1.111940  \n",
              "9   0.041301    1.547632  \n",
              "4   0.027124    1.067465  \n",
              "5   0.027124    1.363843  \n",
              "2   0.028237    1.071921  \n",
              "3   0.028237    1.352678  "
            ]
          },
          "metadata": {
            "tags": []
          }
        }
      ]
    },
    {
      "cell_type": "markdown",
      "metadata": {
        "id": "QjK8RX6HkqfY",
        "colab_type": "text"
      },
      "source": [
        "## 5. Results discussion\n",
        "\n",
        "The results show that there are 6 pairs of product categories that satisfy the requirements of support at least 0.15 and lift at least 1. The category \"fresh fruits\" is in 5 of the 6 pairs, which makes sense because \"fresh fruits\" is the most popular product category by the total number of products ordered from the category.\n",
        "\n",
        "According to these results, if a customer put \"fresh fruits\" in their basket, they are likely to also want \"packaged vegetables fruits\", \"fresh vegetables\", \"yogurt\", \"packaged cheese\", or \"milk\". The \"packaged vegetables fruits\" and \"fresh vegetables\" are also likely to be put in the same basket.\n",
        "\n",
        "More association rules could be found by lowering the minimum support threshold. The trade-off will be that the additional discovered associations will be those that appear less frequently in the data.\n",
        "\n",
        "New insights could also be found by increasing the maximum number of product categories to include in an association rule. For example, if the parameter max_len was increased to 3, then it would be possible to reveal association rules such as order \"fresh fruit\" given that ordered \"packaged vegetable fruits\" and \"fresh vegetables\"."
      ]
    },
    {
      "cell_type": "markdown",
      "metadata": {
        "id": "7dXqj-QYeNs8",
        "colab_type": "text"
      },
      "source": [
        "\n",
        "## 6. References\n",
        "\n",
        "“The Instacart Online Grocery Shopping Dataset 2017”, accessed from https://www.instacart.com/datasets/grocery-shopping-2017 on 10 June 2019\n",
        "\n",
        "Wong, George 2018, *MBA for Breakfast - A Simple Guide to Market Basket Analysis*, accessed from https://towardsdatascience.com/mba-for-breakfast-4c18164ef82b\n",
        "\n",
        "Moffitt, Chris 2017, *Introduction to Market Basket Analysis in Python*, accessed from https://pbpython.com/market-basket-analysis.html"
      ]
    }
  ]
}